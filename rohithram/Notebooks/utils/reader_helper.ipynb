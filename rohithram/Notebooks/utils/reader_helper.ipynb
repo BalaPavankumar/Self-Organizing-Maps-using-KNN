{
 "cells": [
  {
   "cell_type": "code",
   "execution_count": 1,
   "metadata": {},
   "outputs": [],
   "source": [
    "import writefile_run"
   ]
  },
  {
   "cell_type": "code",
   "execution_count": 2,
   "metadata": {},
   "outputs": [],
   "source": [
    "%%writefile_run reader_helper.py\n",
    "\n",
    "\n",
    "import error_codes\n",
    "import reader"
   ]
  },
  {
   "cell_type": "code",
   "execution_count": 3,
   "metadata": {},
   "outputs": [],
   "source": [
    "%%writefile_run reader_helper.py -a\n",
    "\n",
    "\n",
    "\n",
    "\n",
    "def read(reader_kwargs):\n",
    "        '''\n",
    "        Function to read the data using reader api, and parses the json to list of dataframes per asset\n",
    "        '''\n",
    "#         response_json=reader.reader_api(**self.reader_kwargs)\n",
    "#         response_dict = json.loads(response_json)\n",
    "#         print(response_dict)\n",
    "#         response_dict=reader.reader_api(**reader_kwargs)\n",
    "    \n",
    "        '''\n",
    "        To do when new reader works with csv file\n",
    "        '''\n",
    "#         try:\n",
    "#             response_json=reader.reader_api(**self.reader_kwargs)\n",
    "#             response_dict = json.loads(response_json)\n",
    "#         except Exception as e:\n",
    "#             error_codes.error_codes['data_missing']['message'] = response_json\n",
    "#             return error_codes.error_codes['data_missing']\n",
    "\n",
    "\n",
    "        '''\n",
    "        To read from old reader file\n",
    "        '''\n",
    "        response_dict=reader.reader_api(**reader_kwargs)\n",
    "\n",
    "        return response_dict"
   ]
  }
 ],
 "metadata": {
  "kernelspec": {
   "display_name": "Python 3",
   "language": "python",
   "name": "python3"
  },
  "language_info": {
   "codemirror_mode": {
    "name": "ipython",
    "version": 3
   },
   "file_extension": ".py",
   "mimetype": "text/x-python",
   "name": "python",
   "nbconvert_exporter": "python",
   "pygments_lexer": "ipython3",
   "version": "3.6.4"
  }
 },
 "nbformat": 4,
 "nbformat_minor": 2
}
