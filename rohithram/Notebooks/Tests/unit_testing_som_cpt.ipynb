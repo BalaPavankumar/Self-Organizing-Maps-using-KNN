{
 "cells": [
  {
   "cell_type": "markdown",
   "metadata": {},
   "source": [
    "# Unit Testing Self organising maps using KNN anomaly detection"
   ]
  },
  {
   "cell_type": "code",
   "execution_count": 1,
   "metadata": {},
   "outputs": [],
   "source": [
    "import writefile_run as writefile_run"
   ]
  },
  {
   "cell_type": "code",
   "execution_count": 2,
   "metadata": {},
   "outputs": [],
   "source": [
    "% matplotlib inline\n",
    "%load_ext autoreload\n",
    "%autoreload 2"
   ]
  },
  {
   "cell_type": "code",
   "execution_count": 3,
   "metadata": {},
   "outputs": [],
   "source": [
    "\n",
    "import pandas as pd\n",
    "import numpy as np\n",
    "import os\n",
    "# importing the bayesian changepoint main python file to detect changepoints\n",
    "from anomaly_detectors.som_knn_detector import som_knn_wrapper as som_wrapper\n",
    "from anomaly_detectors.utils import reader_helper\n",
    "from anomaly_detectors.utils import csv_prep_for_reader as csv_helper\n",
    "from anomaly_detectors.reader_writer import db_properties as db_properties\n",
    "from anomaly_detectors.reader_writer import writer_configs as writer_configs\n",
    "\n",
    "import warnings\n",
    "warnings.filterwarnings('ignore')"
   ]
  },
  {
   "cell_type": "code",
   "execution_count": 4,
   "metadata": {},
   "outputs": [],
   "source": [
    "# %%writefile_run bayeschangept_sprint1.py -a\n",
    "'''\n",
    "Arguments for reader module to get data from opentsdb\n",
    "This is included for now just for testing, later the main function will take json as direct input\n",
    "'''\n",
    "\n",
    "assetno = ['TSFAD_A1']\n",
    "con = '192.168.2.5:4242'\n",
    "src_type =  'opentsdb'\n",
    "param = ['ec2_cpu_utilization_5f5533']\n",
    "# param = ['ec2_cpu_utilization_ac20cd']\n",
    "\n",
    "# from_timestamp = 1392388020\n",
    "# to_timestamp = 1393597320\n",
    "# param=['ec2_cpu_utilization_5f5533', 'rds_cpu_utilization_cc0c53']\n",
    "from_timestamp=1392388200\n",
    "to_timestamp=1393597320\n",
    "# from_timestamp =1396448940\n",
    "# to_timestamp = 1397659740"
   ]
  },
  {
   "cell_type": "code",
   "execution_count": 5,
   "metadata": {},
   "outputs": [],
   "source": [
    "reader_kwargs= lambda:{\n",
    "            'assetno':['TSFAD_A1'],\n",
    "            'from_timestamp':from_timestamp,\n",
    "            'to_timestamp':to_timestamp,\n",
    "            'con':con,\n",
    "            'para_list':param,\n",
    "            'source_type':src_type,\n",
    "            'table_name':'',\n",
    "            'qry_str':'',\n",
    "            'impute_fill_method':'forward',\n",
    "            'down_sampling_method':None,\n",
    "            'down_sampling_window':None,\n",
    "            'freq':None,\n",
    "            'resample_fill_method':None,\n",
    "            'to_resample':None,\n",
    "            'to_impute':True,\n",
    "}\n",
    "\n",
    "model_input_args = lambda :{\n",
    "    'network_shape':(8,8),\n",
    "    'input_feature_size':None,\n",
    "    'time_constant':None,\n",
    "    'minNumPerBmu':2,\n",
    "    'no_of_neighbours':3,\n",
    "    'init_radius':0.4,\n",
    "    'init_learning_rate':0.01,\n",
    "    'N':100,    \n",
    "    'diff_order':1\n",
    "}\n",
    "\n",
    "training_args = lambda:{\n",
    "            'is_train':True,\n",
    "            'epochs':5,\n",
    "            'batch_size':4,\n",
    "            'to_plot':True,\n",
    "            'test_frac':0.2\n",
    "        }\n",
    "\n",
    "\n",
    "        \n",
    "eval_args = lambda: {\n",
    "    'model_path':'',\n",
    "    'to_plot':True,\n",
    "    'anom_thres':3\n",
    "}"
   ]
  },
  {
   "cell_type": "code",
   "execution_count": 6,
   "metadata": {},
   "outputs": [],
   "source": [
    "keys = list(model_input_args().keys())+list(training_args().keys())+list(eval_args().keys())"
   ]
  },
  {
   "cell_type": "code",
   "execution_count": 7,
   "metadata": {},
   "outputs": [
    {
     "data": {
      "text/plain": [
       "['network_shape',\n",
       " 'input_feature_size',\n",
       " 'time_constant',\n",
       " 'minNumPerBmu',\n",
       " 'no_of_neighbours',\n",
       " 'init_radius',\n",
       " 'init_learning_rate',\n",
       " 'N',\n",
       " 'diff_order',\n",
       " 'is_train',\n",
       " 'epochs',\n",
       " 'batch_size',\n",
       " 'to_plot',\n",
       " 'test_frac',\n",
       " 'model_path',\n",
       " 'to_plot',\n",
       " 'anom_thres']"
      ]
     },
     "execution_count": 7,
     "metadata": {},
     "output_type": "execute_result"
    }
   ],
   "source": [
    "keys"
   ]
  },
  {
   "cell_type": "markdown",
   "metadata": {},
   "source": [
    "## Test for modes :\n",
    "#### Testing three different modes of the program"
   ]
  },
  {
   "cell_type": "code",
   "execution_count": 8,
   "metadata": {},
   "outputs": [],
   "source": [
    "def get_kwargs():\n",
    "    return model_input_args(),training_args(),eval_args()"
   ]
  },
  {
   "cell_type": "code",
   "execution_count": 9,
   "metadata": {},
   "outputs": [
    {
     "name": "stdout",
     "output_type": "stream",
     "text": [
      "http://192.168.2.5:4242/api/query?start=1392388200&end=1393597320&ms=true&m=max:none:ec2_cpu_utilization_5f5533{AssetNo=TSFAD_A1}\n",
      "\n",
      "Testing mode option : detect only\n",
      "\n",
      "Data reader initialised \n",
      "\n",
      "Getting the dataset from the reader....\n",
      "\n",
      "Data of Asset no: TSFAD_A1 \n",
      "                 assetno  ec2_cpu_utilization_5f5533\n",
      "timestamp                                          \n",
      "1392388320000  TSFAD_A1                    0.325390\n",
      "1392388620000  TSFAD_A1                   -0.433345\n",
      "1392388920000  TSFAD_A1                    1.269160\n",
      "1392389220000  TSFAD_A1                    0.838187\n",
      "1392389520000  TSFAD_A1                    0.436504\n",
      "\n",
      "Shape of the Entire dataset : torch.Size([4031, 1])\n",
      "\n",
      "torch.float64\n",
      "Shape of Training dataset :torch.Size([3225, 1]) and Test dataset :torch.Size([807, 1])\n",
      "\n",
      "Dataset has 3225 rows 1 columns\n"
     ]
    },
    {
     "data": {
      "image/png": "[encoded data removed]",
      "text/plain": [
       "<matplotlib.figure.Figure at 0x1dba60b29b0>"
      ]
     },
     "metadata": {},
     "output_type": "display_data"
    },
    {
     "name": "stdout",
     "output_type": "stream",
     "text": [
      "Network dimensions are 8 x 7 \n",
      "\n",
      "\n",
      "Shape of differenced Training data : (3224, 1)\n",
      "\n",
      "Epoch : 0 completed \n",
      " Max Bmu index : (0, 0)\n",
      "Epoch : 1 completed \n",
      " Max Bmu index : (0, 0)\n",
      "Epoch : 2 completed \n",
      " Max Bmu index : (0, 0)\n",
      "Epoch : 3 completed \n",
      " Max Bmu index : (0, 0)\n",
      "Epoch : 4 completed \n",
      " Max Bmu index : (0, 0)\n",
      "\n",
      " Training successfully completed \n",
      "\n",
      "\n",
      "Saved model : som_trained_model_ec2cpuutilization5f5533_1530212656666 in ../../Anomaly_Detection_Models/Machine_Learning_Models,\n",
      "Last Checkpointed at: 1530212656666\n",
      "\n",
      "{\"header\": {\"code\": \"200\", \"status\": \"OK\"}, \"models\": [{\"TSFAD_A1\": \"../../Anomaly_Detection_Models/Machine_Learning_Models\\\\som_trained_model_ec2cpuutilization5f5533_1530212656666\"}]}\n",
      "\n",
      "Testing mode option : detect and log\n",
      "\n",
      "Data reader initialised \n",
      "\n",
      "Getting the dataset from the reader....\n",
      "\n",
      "Data of Asset no: TSFAD_A1 \n",
      "                 assetno  ec2_cpu_utilization_5f5533\n",
      "timestamp                                          \n",
      "1392388320000  TSFAD_A1                    0.325390\n",
      "1392388620000  TSFAD_A1                   -0.433345\n",
      "1392388920000  TSFAD_A1                    1.269160\n",
      "1392389220000  TSFAD_A1                    0.838187\n",
      "1392389520000  TSFAD_A1                    0.436504\n",
      "\n",
      "Shape of the Entire dataset : torch.Size([4031, 1])\n",
      "\n",
      "torch.float64\n",
      "Shape of Training dataset :torch.Size([3225, 1]) and Test dataset :torch.Size([807, 1])\n",
      "\n",
      "Dataset has 3225 rows 1 columns\n"
     ]
    },
    {
     "data": {
      "image/png": "[encoded data removed]",
      "text/plain": [
       "<matplotlib.figure.Figure at 0x1dba68f9668>"
      ]
     },
     "metadata": {},
     "output_type": "display_data"
    },
    {
     "name": "stdout",
     "output_type": "stream",
     "text": [
      "Network dimensions are 8 x 7 \n",
      "\n",
      "\n",
      "Shape of differenced Training data : (3224, 1)\n",
      "\n",
      "Epoch : 0 completed \n",
      " Max Bmu index : (0, 0)\n",
      "Epoch : 1 completed \n",
      " Max Bmu index : (0, 0)\n",
      "Epoch : 2 completed \n",
      " Max Bmu index : (0, 0)\n",
      "Epoch : 3 completed \n",
      " Max Bmu index : (0, 0)\n",
      "Epoch : 4 completed \n",
      " Max Bmu index : (0, 0)\n",
      "\n",
      " Training successfully completed \n",
      "\n",
      "\n",
      "Saved model : som_trained_model_ec2cpuutilization5f5533_1530212657841 in ../../Anomaly_Detection_Models/Machine_Learning_Models,\n",
      "Last Checkpointed at: 1530212657841\n",
      "\n",
      "{\"header\": {\"code\": \"200\", \"status\": \"OK\"}, \"models\": [{\"TSFAD_A1\": \"../../Anomaly_Detection_Models/Machine_Learning_Models\\\\som_trained_model_ec2cpuutilization5f5533_1530212657841\"}]}\n",
      "\n",
      "Testing mode option : log only\n",
      "\n",
      "Data reader initialised \n",
      "\n",
      "Getting the dataset from the reader....\n",
      "\n",
      "Data of Asset no: TSFAD_A1 \n",
      "                 assetno  ec2_cpu_utilization_5f5533\n",
      "timestamp                                          \n",
      "1392388320000  TSFAD_A1                    0.325390\n",
      "1392388620000  TSFAD_A1                   -0.433345\n",
      "1392388920000  TSFAD_A1                    1.269160\n",
      "1392389220000  TSFAD_A1                    0.838187\n",
      "1392389520000  TSFAD_A1                    0.436504\n",
      "\n",
      "Shape of the Entire dataset : torch.Size([4031, 1])\n",
      "\n",
      "torch.float64\n",
      "Shape of Training dataset :torch.Size([3225, 1]) and Test dataset :torch.Size([807, 1])\n",
      "\n",
      "Dataset has 3225 rows 1 columns\n"
     ]
    },
    {
     "data": {
      "image/png": "[encoded data removed]",
      "text/plain": [
       "<matplotlib.figure.Figure at 0x1dba673c0f0>"
      ]
     },
     "metadata": {},
     "output_type": "display_data"
    },
    {
     "name": "stdout",
     "output_type": "stream",
     "text": [
      "Network dimensions are 8 x 7 \n",
      "\n",
      "\n",
      "Shape of differenced Training data : (3224, 1)\n",
      "\n",
      "Epoch : 0 completed \n",
      " Max Bmu index : (0, 0)\n",
      "Epoch : 1 completed \n",
      " Max Bmu index : (0, 0)\n",
      "Epoch : 2 completed \n",
      " Max Bmu index : (0, 0)\n",
      "Epoch : 3 completed \n",
      " Max Bmu index : (0, 0)\n",
      "Epoch : 4 completed \n",
      " Max Bmu index : (0, 0)\n",
      "\n",
      " Training successfully completed \n",
      "\n",
      "\n",
      "Saved model : som_trained_model_ec2cpuutilization5f5533_1530212658978 in ../../Anomaly_Detection_Models/Machine_Learning_Models,\n",
      "Last Checkpointed at: 1530212658978\n",
      "\n",
      "{\"header\": {\"code\": \"200\", \"status\": \"OK\"}, \"models\": [{\"TSFAD_A1\": \"../../Anomaly_Detection_Models/Machine_Learning_Models\\\\som_trained_model_ec2cpuutilization5f5533_1530212658978\"}]}\n"
     ]
    }
   ],
   "source": [
    "json_data = reader_helper.read(reader_kwargs=reader_kwargs())\n",
    "model_input_args1,training_args1,eval_args1 = get_kwargs()\n",
    "training_args1['to_plot'] = True\n",
    "\n",
    "for i in range(3):\n",
    "    mode = som_wrapper.mode_options[i]\n",
    "    print(\"\\nTesting mode option : {}\\n\".format(mode))\n",
    "    res = som_wrapper.train(**{**model_input_args1,**training_args1},json_data=json_data)\n",
    "    print(res)"
   ]
  },
  {
   "cell_type": "code",
   "execution_count": 13,
   "metadata": {},
   "outputs": [
    {
     "name": "stdout",
     "output_type": "stream",
     "text": [
      "http://192.168.2.5:4242/api/query?start=1392388200&end=1393597320&ms=true&m=max:none:ec2_cpu_utilization_5f5533{AssetNo=TSFAD_A1}\n",
      "\n",
      "Testing mode option : detect only\n",
      "\n",
      "Data reader initialised \n",
      "\n",
      "{\"code\": \"400\", \"status\": \"Bad Request\", \"message\": \"Expecting value: line 1 column 1 (char 0) - json_data must be proper json object\", \"data\": {\"argument\": \"json_data\", \"value\": \"json_data\"}}\n"
     ]
    }
   ],
   "source": [
    "json_data = reader_helper.read(reader_kwargs=reader_kwargs())\n",
    "model_input_args1,training_args1,eval_args1 = get_kwargs()\n",
    "training_args1['to_plot'] = True\n",
    "# print(type(json_data))\n",
    "mode = som_wrapper.mode_options[0]\n",
    "print(\"\\nTesting mode option : {}\\n\".format(mode))\n",
    "res = som_wrapper.train(**{**model_input_args1,**training_args1},json_data='json_data')\n",
    "print(res)"
   ]
  },
  {
   "cell_type": "markdown",
   "metadata": {},
   "source": [
    "## Test 1 : \n",
    "#### Testing with parameters being empty quotes"
   ]
  },
  {
   "cell_type": "code",
   "execution_count": 11,
   "metadata": {
    "scrolled": false
   },
   "outputs": [
    {
     "name": "stdout",
     "output_type": "stream",
     "text": [
      "http://192.168.2.5:4242/api/query?start=1392388200&end=1393597320&ms=true&m=max:none:ec2_cpu_utilization_5f5533{AssetNo=TSFAD_A1}\n"
     ]
    },
    {
     "ename": "NameError",
     "evalue": "name 'algo_kwargs' is not defined",
     "output_type": "error",
     "traceback": [
      "\u001b[1;31m---------------------------------------------------------------------------\u001b[0m",
      "\u001b[1;31mNameError\u001b[0m                                 Traceback (most recent call last)",
      "\u001b[1;32m<ipython-input-11-43b4c38d8aef>\u001b[0m in \u001b[0;36m<module>\u001b[1;34m()\u001b[0m\n\u001b[0;32m      2\u001b[0m \u001b[1;33m\u001b[0m\u001b[0m\n\u001b[0;32m      3\u001b[0m \u001b[0mjson_data\u001b[0m \u001b[1;33m=\u001b[0m \u001b[0mreader_helper\u001b[0m\u001b[1;33m.\u001b[0m\u001b[0mread\u001b[0m\u001b[1;33m(\u001b[0m\u001b[0mreader_kwargs\u001b[0m\u001b[1;33m=\u001b[0m\u001b[0mreader_kwargs\u001b[0m\u001b[1;33m(\u001b[0m\u001b[1;33m)\u001b[0m\u001b[1;33m)\u001b[0m\u001b[1;33m\u001b[0m\u001b[0m\n\u001b[1;32m----> 4\u001b[1;33m \u001b[0malgo_kwargs1\u001b[0m \u001b[1;33m=\u001b[0m \u001b[0malgo_kwargs\u001b[0m\u001b[1;33m(\u001b[0m\u001b[1;33m)\u001b[0m\u001b[1;33m\u001b[0m\u001b[0m\n\u001b[0m\u001b[0;32m      5\u001b[0m \u001b[1;32mfor\u001b[0m \u001b[0mkey\u001b[0m \u001b[1;32min\u001b[0m \u001b[0mkeys\u001b[0m\u001b[1;33m:\u001b[0m\u001b[1;33m\u001b[0m\u001b[0m\n\u001b[0;32m      6\u001b[0m     \u001b[0malgo_kwargs1\u001b[0m\u001b[1;33m[\u001b[0m\u001b[0mkey\u001b[0m\u001b[1;33m]\u001b[0m\u001b[1;33m=\u001b[0m\u001b[1;34m''\u001b[0m\u001b[1;33m\u001b[0m\u001b[0m\n",
      "\u001b[1;31mNameError\u001b[0m: name 'algo_kwargs' is not defined"
     ]
    }
   ],
   "source": [
    "\n",
    "\n",
    "json_data = reader_helper.read(reader_kwargs=reader_kwargs())\n",
    "algo_kwargs1 = algo_kwargs()\n",
    "for key in keys:\n",
    "    algo_kwargs1[key]=''\n",
    "    res = bayeschangept.main(**algo_kwargs1,json_data=json_data)\n",
    "    print(res)"
   ]
  },
  {
   "cell_type": "markdown",
   "metadata": {},
   "source": [
    "## Test 2 :\n",
    "#### Testing missing parameters : "
   ]
  },
  {
   "cell_type": "code",
   "execution_count": null,
   "metadata": {
    "scrolled": true
   },
   "outputs": [],
   "source": [
    "\n",
    "   \n",
    "json_data = reader_helper.read(reader_kwargs=reader_kwargs())\n",
    "algo_kwargs1 = algo_kwargs()\n",
    "for key in keys:\n",
    "    del algo_kwargs1[key]\n",
    "    res = bayeschangept.main(**algo_kwargs1,json_data=json_data)\n",
    "    print(res)"
   ]
  },
  {
   "cell_type": "markdown",
   "metadata": {},
   "source": [
    "## Test 3:\n",
    "#### Testing parameter type mismatch "
   ]
  },
  {
   "cell_type": "code",
   "execution_count": null,
   "metadata": {},
   "outputs": [],
   "source": [
    "keys"
   ]
  },
  {
   "cell_type": "code",
   "execution_count": null,
   "metadata": {},
   "outputs": [],
   "source": [
    "\n",
    "json_data = reader_helper.read(reader_kwargs=reader_kwargs())\n",
    "algo_kwargs1 = algo_kwargs()\n",
    "val = ['2',4.5,'def']\n",
    "for i,key in enumerate(keys):\n",
    "    algo_kwargs1[key]=val[i]\n",
    "    res = bayeschangept.main(**algo_kwargs1,json_data=json_data)\n",
    "    print(res)"
   ]
  },
  {
   "cell_type": "markdown",
   "metadata": {},
   "source": [
    "### User Defined Test Case:\n",
    "#### Testing the fact that probability threshold must be between 0 and 1"
   ]
  },
  {
   "cell_type": "code",
   "execution_count": null,
   "metadata": {},
   "outputs": [],
   "source": [
    "json_data = reader_helper.read(reader_kwargs=reader_kwargs())\n",
    "algo_kwargs1 = algo_kwargs()\n",
    "val = [5,4,100]\n",
    "for i,key in enumerate(keys):\n",
    "    algo_kwargs1[key]=val[i]\n",
    "    res = bayeschangept.main(**algo_kwargs1,json_data=json_data)\n",
    "    print(res)"
   ]
  },
  {
   "cell_type": "markdown",
   "metadata": {},
   "source": [
    "## Test 4:\n",
    "#### Testing Algorithm Logic :\n",
    "* Running the algorithm for different values of probability thresholds\n",
    "* so expected o/p behaviour expected is as we increase the probability threshold the no of anomaly detected reduces and reaches zero when set to $1.0$\n",
    "* Default threshold is $0.5$"
   ]
  },
  {
   "cell_type": "code",
   "execution_count": null,
   "metadata": {},
   "outputs": [],
   "source": [
    "\n",
    "\n",
    "reader_kwargs1 = csv_helper.get_csv_kwargs()\n",
    "json_data = reader_helper.read(reader_kwargs=reader_kwargs1)\n",
    "algo_kwargs1 = algo_kwargs()\n",
    "\n",
    "pthreses = [0.5,0.01,0.99]\n",
    "\n",
    "for i,pthres in enumerate(pthreses):\n",
    "    algo_kwargs1['thres_prob']=pthres\n",
    "    res = bayeschangept.main(**algo_kwargs1,json_data=json_data)\n",
    "    print(res)"
   ]
  },
  {
   "cell_type": "markdown",
   "metadata": {},
   "source": [
    "#### Observe the effect of expected_run_length on the algorithm"
   ]
  },
  {
   "cell_type": "code",
   "execution_count": null,
   "metadata": {
    "scrolled": false
   },
   "outputs": [],
   "source": [
    "reader_kwargs1 = csv_helper.get_csv_kwargs()\n",
    "json_data = reader_helper.read(reader_kwargs=reader_kwargs1)\n",
    "algo_kwargs1 = algo_kwargs()\n",
    "algo_kwargs1['thres_prob'] = 0.5\n",
    "mean_run_lens = [0,100,10000]\n",
    "for i,mean_run_len in enumerate(mean_run_lens):\n",
    "    print('\\n Anomaly detection for expected run length  = {}\\n'.format(mean_run_len))\n",
    "    algo_kwargs1['expected_run_length']=mean_run_len\n",
    "    res = bayeschangept.main(**algo_kwargs1,json_data=json_data)\n",
    "    print(res)"
   ]
  },
  {
   "cell_type": "markdown",
   "metadata": {},
   "source": [
    "##### Results:\n",
    "* As we observed that when expected run length given zero. the algo stops and throws an zero division error as expected/\n",
    "* Then as we increase it from zero, we observed that interval between changepoints increased"
   ]
  },
  {
   "cell_type": "markdown",
   "metadata": {},
   "source": [
    "## Test 5:\n",
    "#### Testing Algorithm tuning :\n",
    "* Trying to change the parameters of algorithm and observe the results obtained\n",
    "* Here we try to tune the algo to run faster and as we observe that on increasing expected run length, the sensitivity of detecting changepoints decreases which we saw above case too."
   ]
  },
  {
   "cell_type": "code",
   "execution_count": null,
   "metadata": {},
   "outputs": [],
   "source": [
    "%%timeit -n 1 -r 1\n",
    "\n",
    "algo_kwargs1 = algo_kwargs()\n",
    "\n",
    "    \n",
    "reader_kwargs1 = csv_helper.get_csv_kwargs(infile='../../dataset/bearings_1.csv',\n",
    "                                           filename='bearings_1.csv',n_rows=5000,has_time=False)\n",
    "json_data = reader_helper.read(reader_kwargs=reader_kwargs1)\n",
    "\n",
    "res = bayeschangept.main(**algo_kwargs1,json_data=json_data)\n",
    "print(res)"
   ]
  },
  {
   "cell_type": "markdown",
   "metadata": {},
   "source": [
    "## Test 6:\n",
    "#### Testing Asset Timeline Logging :"
   ]
  },
  {
   "cell_type": "code",
   "execution_count": null,
   "metadata": {},
   "outputs": [],
   "source": [
    "reader_kwargs1 = csv_helper.get_csv_kwargs()\n",
    "json_data = reader_helper.read(reader_kwargs1)\n",
    "algo_kwargs1 = algo_kwargs()\n",
    "res = bayeschangept.main(**algo_kwargs1,json_data=json_data)\n",
    "print(res)"
   ]
  },
  {
   "cell_type": "markdown",
   "metadata": {},
   "source": [
    "!['Asset timeline logging 1'](./atl_test2_bayes.png)\n",
    "!['Asset timeline logging 2](./atl_test3_bayes.png)"
   ]
  },
  {
   "cell_type": "markdown",
   "metadata": {},
   "source": [
    "## Test 7:\n",
    "#### Testing the response from program to follow agreed upon template :"
   ]
  },
  {
   "cell_type": "code",
   "execution_count": null,
   "metadata": {},
   "outputs": [],
   "source": [
    "reader_kwargs1 = csv_helper.get_csv_kwargs()\n",
    "json_data = reader_helper.read(reader_kwargs1)\n",
    "algo_kwargs1 = algo_kwargs()\n",
    "res = bayeschangept.main(**algo_kwargs1,json_data=json_data)\n",
    "print(res)"
   ]
  },
  {
   "cell_type": "markdown",
   "metadata": {},
   "source": [
    "## Test 8:\n",
    "#### Testing No Data exception :\n",
    "* To get empty dataframe we set from and to timestamp to be not in range of the timestamps in dataset analysed"
   ]
  },
  {
   "cell_type": "code",
   "execution_count": null,
   "metadata": {},
   "outputs": [],
   "source": [
    "reader_kwargs1 = csv_helper.get_csv_kwargs()\n",
    "reader_kwargs1['from_timestamp'] = int(2**60)\n",
    "json_data = reader_helper.read(reader_kwargs1)\n",
    "algo_kwargs1 = algo_kwargs()\n",
    "res = bayeschangept.main(**algo_kwargs1,json_data=json_data)\n",
    "print(res)"
   ]
  },
  {
   "cell_type": "markdown",
   "metadata": {},
   "source": [
    "## Test 9:\n",
    "#### Testing Database connectivity  exception :\n",
    "* To test this we edit the db properties and run the algo"
   ]
  },
  {
   "cell_type": "code",
   "execution_count": null,
   "metadata": {},
   "outputs": [],
   "source": [
    "writer_configs.table_name = 'f'"
   ]
  },
  {
   "cell_type": "code",
   "execution_count": null,
   "metadata": {
    "scrolled": true
   },
   "outputs": [],
   "source": [
    "db_properties.db_connection"
   ]
  },
  {
   "cell_type": "markdown",
   "metadata": {},
   "source": [
    "### We change the db name and we expect a database error as shown below"
   ]
  },
  {
   "cell_type": "code",
   "execution_count": null,
   "metadata": {},
   "outputs": [],
   "source": [
    "db_properties.db_connection['dbname'] = 'eg'"
   ]
  },
  {
   "cell_type": "code",
   "execution_count": null,
   "metadata": {},
   "outputs": [],
   "source": [
    "reader_kwargs1 = csv_helper.get_csv_kwargs()\n",
    "json_data = reader_helper.read(reader_kwargs1)\n",
    "algo_kwargs1 = algo_kwargs()\n",
    "algo_kwargs1['to_plot'] = False\n",
    "res = bayeschangept.main(**algo_kwargs1,json_data=json_data,mode=bayeschangept.mode_options[2])\n",
    "print(res)"
   ]
  },
  {
   "cell_type": "markdown",
   "metadata": {},
   "source": [
    "### Now we try to change the password of db properties and observe the exception handled"
   ]
  },
  {
   "cell_type": "code",
   "execution_count": null,
   "metadata": {},
   "outputs": [],
   "source": [
    "db_properties.db_connection['password']='fef'"
   ]
  },
  {
   "cell_type": "code",
   "execution_count": null,
   "metadata": {},
   "outputs": [],
   "source": [
    "reader_kwargs1 = csv_helper.get_csv_kwargs()\n",
    "json_data = reader_helper.read(reader_kwargs1)\n",
    "algo_kwargs1 = algo_kwargs()\n",
    "algo_kwargs1['to_plot'] = False\n",
    "res = bayeschangept.main(**algo_kwargs1,json_data=json_data,mode=bayeschangept.mode_options[2])\n",
    "print(res)"
   ]
  },
  {
   "cell_type": "code",
   "execution_count": null,
   "metadata": {},
   "outputs": [],
   "source": [
    "%%writefile_run db_properties.py\n",
    "\n",
    "db_connection = {'dbname': 'Cerebra',\n",
    " 'host': '127.0.0.1',\n",
    " 'password': 'givemeachance',\n",
    " 'port': '5432',\n",
    " 'user': 'postgres'}"
   ]
  },
  {
   "cell_type": "markdown",
   "metadata": {},
   "source": [
    "### Now we change the table name in which we are writing, and we observe that relation doesn't exist as seen below"
   ]
  },
  {
   "cell_type": "code",
   "execution_count": null,
   "metadata": {},
   "outputs": [],
   "source": [
    "writer_configs.table_name = 'ffee'"
   ]
  },
  {
   "cell_type": "code",
   "execution_count": null,
   "metadata": {},
   "outputs": [],
   "source": [
    "\n",
    "reader_kwargs1 = csv_helper.get_csv_kwargs()\n",
    "# reader_kwargs1['from_timestamp'] = int(2**60)\n",
    "json_data = reader_helper.read(reader_kwargs1)\n",
    "algo_kwargs1 = algo_kwargs()\n",
    "algo_kwargs1['to_plot'] = False\n",
    "res = bayeschangept.main(**algo_kwargs1,json_data=json_data,mode=bayeschangept.mode_options[2])\n",
    "print(res)"
   ]
  },
  {
   "cell_type": "code",
   "execution_count": null,
   "metadata": {},
   "outputs": [],
   "source": [
    "writer_configs.table_name = 'public.log_asset_timeline'"
   ]
  },
  {
   "cell_type": "markdown",
   "metadata": {},
   "source": [
    "## Test 10:\n",
    "#### Testing random exceptions :"
   ]
  },
  {
   "cell_type": "code",
   "execution_count": null,
   "metadata": {},
   "outputs": [],
   "source": [
    "reader_kwargs1 = csv_helper.get_csv_kwargs()\n",
    "json_data = reader_helper.read(reader_kwargs1)\n",
    "algo_kwargs1 = algo_kwargs()\n",
    "algo_kwargs1['to_plot'] = False\n",
    "res = bayeschangept.main(**algo_kwargs1,json_data=json_data)\n",
    "print(res)"
   ]
  },
  {
   "cell_type": "markdown",
   "metadata": {},
   "source": [
    "## Test 11:\n",
    "#### Testing High Performance :"
   ]
  },
  {
   "cell_type": "code",
   "execution_count": null,
   "metadata": {
    "scrolled": false
   },
   "outputs": [],
   "source": [
    "%%timeit -n 1 -r 1\n",
    "reader_kwargs1 = csv_helper.get_csv_kwargs(infile='../../dataset/bearings_1.csv',filename='bearings_1.csv',n_rows=15000,has_time=False)\n",
    "json_data = reader_helper.read(reader_kwargs1)\n",
    "algo_kwargs1 = algo_kwargs()\n",
    "algo_kwargs1['to_plot']=False\n",
    "res = bayeschangept.main(**algo_kwargs1,json_data=json_data)\n",
    "print(res)"
   ]
  },
  {
   "cell_type": "markdown",
   "metadata": {},
   "source": [
    "####  We observe that for running oddly $15000$ datapoints for $1$ metric name it takes around $58.7$ seconds to run.\n",
    "* I believe that reason for this timing is the algo computes the matrix of order of $NxN$ where $N$ is the size of dataset.\n",
    "* So it takes lot of time to compute that"
   ]
  },
  {
   "cell_type": "markdown",
   "metadata": {},
   "source": [
    "# Conclusion:\n",
    "* Hence we observe that **Bayesian Changepoint Detection** works well only on level shifts or variational shift datasets over outlier or surge,sag datasets"
   ]
  }
 ],
 "metadata": {
  "kernelspec": {
   "display_name": "Python 3",
   "language": "python",
   "name": "python3"
  },
  "language_info": {
   "codemirror_mode": {
    "name": "ipython",
    "version": 3
   },
   "file_extension": ".py",
   "mimetype": "text/x-python",
   "name": "python",
   "nbconvert_exporter": "python",
   "pygments_lexer": "ipython3",
   "version": "3.6.4"
  }
 },
 "nbformat": 4,
 "nbformat_minor": 2
}
