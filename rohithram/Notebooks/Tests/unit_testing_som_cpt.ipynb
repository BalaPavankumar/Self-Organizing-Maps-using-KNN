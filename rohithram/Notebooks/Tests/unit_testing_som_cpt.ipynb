{
 "cells": [
  {
   "cell_type": "markdown",
   "metadata": {},
   "source": [
    "# Unit Testing Self organising maps using KNN anomaly detection"
   ]
  },
  {
   "cell_type": "code",
   "execution_count": null,
   "metadata": {
    "collapsed": true
   },
   "outputs": [],
   "source": [
    "import writefile_run as writefile_run"
   ]
  },
  {
   "cell_type": "code",
   "execution_count": null,
   "metadata": {
    "collapsed": true
   },
   "outputs": [],
   "source": [
    "% matplotlib inline\n",
    "%load_ext autoreload\n",
    "%autoreload 2"
   ]
  },
  {
   "cell_type": "code",
   "execution_count": null,
   "metadata": {},
   "outputs": [],
   "source": [
    "\n",
    "import pandas as pd\n",
    "import numpy as np\n",
    "import json\n",
    "import os\n",
    "# importing the bayesian changepoint main python file to detect changepoints\n",
    "from anomaly_detectors.som_knn_detector import som_knn_wrapper as som_wrapper\n",
    "from anomaly_detectors.utils import reader_helper\n",
    "from anomaly_detectors.utils import csv_prep_for_reader as csv_helper\n",
    "from anomaly_detectors.reader_writer import db_properties as db_properties\n",
    "from anomaly_detectors.reader_writer import writer_configs as writer_configs\n",
    "\n",
    "import warnings\n",
    "warnings.filterwarnings('ignore')"
   ]
  },
  {
   "cell_type": "code",
   "execution_count": null,
   "metadata": {
    "collapsed": true
   },
   "outputs": [],
   "source": [
    "# %%writefile_run bayeschangept_sprint1.py -a\n",
    "'''\n",
    "Arguments for reader module to get data from opentsdb\n",
    "This is included for now just for testing, later the main function will take json as direct input\n",
    "'''\n",
    "\n",
    "assetno = ['TSFAD_A1']\n",
    "con = '192.168.2.5:4242'\n",
    "src_type =  'opentsdb'\n",
    "param = ['ec2_cpu_utilization_5f5533']\n",
    "# param = ['ec2_cpu_utilization_ac20cd']\n",
    "\n",
    "# from_timestamp = 1392388020\n",
    "# to_timestamp = 1393597320\n",
    "# param=['ec2_cpu_utilization_5f5533', 'rds_cpu_utilization_cc0c53']\n",
    "from_timestamp=1392388200\n",
    "to_timestamp=1393597320\n",
    "# from_timestamp =1396448940\n",
    "# to_timestamp = 1397659740"
   ]
  },
  {
   "cell_type": "code",
   "execution_count": null,
   "metadata": {
    "collapsed": true
   },
   "outputs": [],
   "source": [
    "reader_kwargs= lambda:{\n",
    "            'assetno':['TSFAD_A1'],\n",
    "            'from_timestamp':from_timestamp,\n",
    "            'to_timestamp':to_timestamp,\n",
    "            'con':con,\n",
    "            'para_list':param,\n",
    "            'source_type':src_type,\n",
    "            'table_name':'',\n",
    "            'qry_str':'',\n",
    "            'impute_fill_method':'forward',\n",
    "            'down_sampling_method':None,\n",
    "            'down_sampling_window':None,\n",
    "            'freq':None,\n",
    "            'resample_fill_method':None,\n",
    "            'to_resample':None,\n",
    "            'to_impute':True,\n",
    "}\n",
    "\n",
    "model_input_args = lambda :{\n",
    "    'network_shape':(8,8),\n",
    "    'input_feature_size':None,\n",
    "    'time_constant':None,\n",
    "    'minNumPerBmu':2,\n",
    "    'no_of_neighbours':3,\n",
    "    'init_radius':0.4,\n",
    "    'init_learning_rate':0.01,\n",
    "    'N':100,    \n",
    "    'diff_order':1\n",
    "}\n",
    "\n",
    "training_args = lambda:{\n",
    "            'is_train':True,\n",
    "            'epochs':5,\n",
    "            'batch_size':4,\n",
    "            'to_plot':True,\n",
    "            'test_frac':0.2\n",
    "        }\n",
    "\n",
    "\n",
    "        \n",
    "eval_args = lambda: {\n",
    "    'model_path':'',\n",
    "    'to_plot':True,\n",
    "    'anom_thres':3\n",
    "}"
   ]
  },
  {
   "cell_type": "code",
   "execution_count": null,
   "metadata": {
    "collapsed": true
   },
   "outputs": [],
   "source": [
    "keys = list(model_input_args().keys())+list(training_args().keys())+list(eval_args().keys())"
   ]
  },
  {
   "cell_type": "code",
   "execution_count": null,
   "metadata": {},
   "outputs": [],
   "source": [
    "keys"
   ]
  },
  {
   "cell_type": "markdown",
   "metadata": {},
   "source": [
    "## Test for modes :\n",
    "#### Testing three different modes of the program\n",
    "* First training and for testing three different modes are tested and the output is shown below"
   ]
  },
  {
   "cell_type": "code",
   "execution_count": null,
   "metadata": {
    "collapsed": true
   },
   "outputs": [],
   "source": [
    "def get_kwargs():\n",
    "    return model_input_args(),training_args(),eval_args()"
   ]
  },
  {
   "cell_type": "code",
   "execution_count": null,
   "metadata": {},
   "outputs": [],
   "source": [
    "reader_kwargs1= reader_kwargs()\n",
    "json_data = reader_helper.read(reader_kwargs=reader_kwargs1)\n",
    "model_input_args1,training_args1,eval_args1 = get_kwargs()\n",
    "training_args1['to_plot'] = True\n",
    "\n",
    "for i in range(3):\n",
    "    mode = som_wrapper.mode_options[i]\n",
    "    print(\"\\nTesting mode option : {}\\n\".format(mode))\n",
    "    training_args1['to_plot']=False\n",
    "    train_res = json.loads(som_wrapper.train(**{**model_input_args1,**training_args1},json_data=json_data))\n",
    "    eval_args1['anom_thres'] = 3\n",
    "    eval_args1['model_path'] = train_res['models'][0][assetno[0]]\n",
    "#     json_data = reader_helper.read(reader_kwargs1)\n",
    "    eval_args1['to_plot']=False\n",
    "    test_res = som_wrapper.evaluate(**eval_args1,json_data=json_data,mode=som_wrapper.mode_options[i])\n",
    "    print(test_res)"
   ]
  },
  {
   "cell_type": "markdown",
   "metadata": {},
   "source": [
    "## Test 1 : \n",
    "#### Testing with parameters being empty quotes"
   ]
  },
  {
   "cell_type": "code",
   "execution_count": null,
   "metadata": {
    "collapsed": true
   },
   "outputs": [],
   "source": [
    "reader_kwargs1= reader_kwargs()\n",
    "json_data = reader_helper.read(reader_kwargs=reader_kwargs1)\n",
    "model_input_args1,training_args1,eval_args1 = get_kwargs()"
   ]
  },
  {
   "cell_type": "markdown",
   "metadata": {},
   "source": [
    "## Testing on model_input_args"
   ]
  },
  {
   "cell_type": "code",
   "execution_count": null,
   "metadata": {
    "collapsed": true
   },
   "outputs": [],
   "source": [
    "for key in list(model_input_args1.keys()):\n",
    "    print(\"\\nGiving {} parameter : ''\\n\".format(key))\n",
    "    model_input_args1 = model_input_args()\n",
    "    model_input_args1[key] = ''\n",
    "    training_args1['to_plot']=False\n",
    "    train_res = json.loads(som_wrapper.train(**{**model_input_args1,**training_args1},json_data=json_data))\n",
    "    print(train_res)"
   ]
  },
  {
   "cell_type": "markdown",
   "metadata": {},
   "source": [
    "## Testing on training args"
   ]
  },
  {
   "cell_type": "code",
   "execution_count": null,
   "metadata": {
    "collapsed": true
   },
   "outputs": [],
   "source": [
    "model_input_args1 = model_input_args()\n",
    "\n",
    "for key in list(training_args().keys()):\n",
    "    training_args1 = training_args()\n",
    "    training_args1[key] = ''\n",
    "#     eval_args1['to_plot']=False\n",
    "    training_args1['to_plot']=False\n",
    "    train_res = json.loads(som_wrapper.train(**{**model_input_args1,**training_args1},json_data=json_data))\n",
    "    print(train_res)"
   ]
  },
  {
   "cell_type": "markdown",
   "metadata": {},
   "source": [
    "## Testing on evaluation args"
   ]
  },
  {
   "cell_type": "code",
   "execution_count": null,
   "metadata": {
    "collapsed": true
   },
   "outputs": [],
   "source": [
    "training_args1 = training_args()\n",
    "model_input_args1 = model_input_args()\n",
    "training_args1['to_plot']=False\n",
    "train_res = json.loads(som_wrapper.train(**{**model_input_args1,**training_args1},json_data=json_data))\n",
    "print(train_res)"
   ]
  },
  {
   "cell_type": "code",
   "execution_count": null,
   "metadata": {
    "collapsed": true
   },
   "outputs": [],
   "source": [
    "for key in list(eval_args().keys()):\n",
    "    eval_args1 = eval_args()\n",
    "    eval_args1['model_path'] = train_res['models'][0][assetno[0]]\n",
    "    eval_args1[key] = ''\n",
    "#     json_data = reader_helper.read(reader_kwargs1)\n",
    "    eval_args1['to_plot']=False\n",
    "    test_res = som_wrapper.evaluate(**eval_args1,json_data=json_data)\n",
    "    print(test_res)"
   ]
  },
  {
   "cell_type": "markdown",
   "metadata": {},
   "source": [
    "## Test 2 :\n",
    "#### Testing missing parameters : "
   ]
  },
  {
   "cell_type": "code",
   "execution_count": null,
   "metadata": {
    "collapsed": true,
    "scrolled": true
   },
   "outputs": [],
   "source": [
    "\n",
    "   \n",
    "json_data = reader_helper.read(reader_kwargs=reader_kwargs())\n",
    "algo_kwargs1 = algo_kwargs()\n",
    "for key in keys:\n",
    "    del algo_kwargs1[key]\n",
    "    res = bayeschangept.main(**algo_kwargs1,json_data=json_data)\n",
    "    print(res)"
   ]
  },
  {
   "cell_type": "markdown",
   "metadata": {},
   "source": [
    "## Test 3:\n",
    "#### Testing parameter type mismatch "
   ]
  },
  {
   "cell_type": "code",
   "execution_count": null,
   "metadata": {
    "collapsed": true
   },
   "outputs": [],
   "source": [
    "keys"
   ]
  },
  {
   "cell_type": "code",
   "execution_count": null,
   "metadata": {
    "collapsed": true
   },
   "outputs": [],
   "source": [
    "\n",
    "json_data = reader_helper.read(reader_kwargs=reader_kwargs())\n",
    "algo_kwargs1 = algo_kwargs()\n",
    "val = ['2',4.5,'def']\n",
    "for i,key in enumerate(keys):\n",
    "    algo_kwargs1[key]=val[i]\n",
    "    res = bayeschangept.main(**algo_kwargs1,json_data=json_data)\n",
    "    print(res)"
   ]
  },
  {
   "cell_type": "markdown",
   "metadata": {},
   "source": [
    "### User Defined Test Case:\n",
    "#### Testing the fact that probability threshold must be between 0 and 1"
   ]
  },
  {
   "cell_type": "code",
   "execution_count": null,
   "metadata": {
    "collapsed": true
   },
   "outputs": [],
   "source": [
    "json_data = reader_helper.read(reader_kwargs=reader_kwargs())\n",
    "algo_kwargs1 = algo_kwargs()\n",
    "val = [5,4,100]\n",
    "for i,key in enumerate(keys):\n",
    "    algo_kwargs1[key]=val[i]\n",
    "    res = bayeschangept.main(**algo_kwargs1,json_data=json_data)\n",
    "    print(res)"
   ]
  },
  {
   "cell_type": "markdown",
   "metadata": {},
   "source": [
    "## Test 4:\n",
    "#### Testing Algorithm Logic :\n",
    "* Running the algorithm for different values of probability thresholds\n",
    "* so expected o/p behaviour expected is as we increase the probability threshold the no of anomaly detected reduces and reaches zero when set to $1.0$\n",
    "* Default threshold is $0.5$"
   ]
  },
  {
   "cell_type": "code",
   "execution_count": null,
   "metadata": {
    "collapsed": true
   },
   "outputs": [],
   "source": [
    "\n",
    "\n",
    "reader_kwargs1 = csv_helper.get_csv_kwargs()\n",
    "json_data = reader_helper.read(reader_kwargs=reader_kwargs1)\n",
    "algo_kwargs1 = algo_kwargs()\n",
    "\n",
    "pthreses = [0.5,0.01,0.99]\n",
    "\n",
    "for i,pthres in enumerate(pthreses):\n",
    "    algo_kwargs1['thres_prob']=pthres\n",
    "    res = bayeschangept.main(**algo_kwargs1,json_data=json_data)\n",
    "    print(res)"
   ]
  },
  {
   "cell_type": "markdown",
   "metadata": {},
   "source": [
    "#### Observe the effect of expected_run_length on the algorithm"
   ]
  },
  {
   "cell_type": "code",
   "execution_count": null,
   "metadata": {
    "collapsed": true,
    "scrolled": false
   },
   "outputs": [],
   "source": [
    "reader_kwargs1 = csv_helper.get_csv_kwargs()\n",
    "json_data = reader_helper.read(reader_kwargs=reader_kwargs1)\n",
    "algo_kwargs1 = algo_kwargs()\n",
    "algo_kwargs1['thres_prob'] = 0.5\n",
    "mean_run_lens = [0,100,10000]\n",
    "for i,mean_run_len in enumerate(mean_run_lens):\n",
    "    print('\\n Anomaly detection for expected run length  = {}\\n'.format(mean_run_len))\n",
    "    algo_kwargs1['expected_run_length']=mean_run_len\n",
    "    res = bayeschangept.main(**algo_kwargs1,json_data=json_data)\n",
    "    print(res)"
   ]
  },
  {
   "cell_type": "markdown",
   "metadata": {},
   "source": [
    "##### Results:\n",
    "* As we observed that when expected run length given zero. the algo stops and throws an zero division error as expected/\n",
    "* Then as we increase it from zero, we observed that interval between changepoints increased"
   ]
  },
  {
   "cell_type": "markdown",
   "metadata": {},
   "source": [
    "## Test 5:\n",
    "#### Testing Algorithm tuning :\n",
    "* Trying to change the parameters of algorithm and observe the results obtained\n",
    "* Here we try to tune the algo to run faster and as we observe that on increasing expected run length, the sensitivity of detecting changepoints decreases which we saw above case too."
   ]
  },
  {
   "cell_type": "code",
   "execution_count": null,
   "metadata": {
    "collapsed": true
   },
   "outputs": [],
   "source": [
    "%%timeit -n 1 -r 1\n",
    "\n",
    "algo_kwargs1 = algo_kwargs()\n",
    "\n",
    "    \n",
    "reader_kwargs1 = csv_helper.get_csv_kwargs(infile='../../dataset/bearings_1.csv',\n",
    "                                           filename='bearings_1.csv',n_rows=5000,has_time=False)\n",
    "json_data = reader_helper.read(reader_kwargs=reader_kwargs1)\n",
    "\n",
    "res = bayeschangept.main(**algo_kwargs1,json_data=json_data)\n",
    "print(res)"
   ]
  },
  {
   "cell_type": "markdown",
   "metadata": {},
   "source": [
    "## Test 6:\n",
    "#### Testing Asset Timeline Logging :"
   ]
  },
  {
   "cell_type": "code",
   "execution_count": null,
   "metadata": {
    "collapsed": true
   },
   "outputs": [],
   "source": [
    "reader_kwargs1 = csv_helper.get_csv_kwargs()\n",
    "json_data = reader_helper.read(reader_kwargs1)\n",
    "algo_kwargs1 = algo_kwargs()\n",
    "res = bayeschangept.main(**algo_kwargs1,json_data=json_data)\n",
    "print(res)"
   ]
  },
  {
   "cell_type": "markdown",
   "metadata": {},
   "source": [
    "!['Asset timeline logging 1'](./atl_test2_bayes.png)\n",
    "!['Asset timeline logging 2](./atl_test3_bayes.png)"
   ]
  },
  {
   "cell_type": "markdown",
   "metadata": {},
   "source": [
    "## Test 7:\n",
    "#### Testing the response from program to follow agreed upon template :"
   ]
  },
  {
   "cell_type": "code",
   "execution_count": null,
   "metadata": {
    "collapsed": true
   },
   "outputs": [],
   "source": [
    "reader_kwargs1 = csv_helper.get_csv_kwargs()\n",
    "json_data = reader_helper.read(reader_kwargs1)\n",
    "algo_kwargs1 = algo_kwargs()\n",
    "res = bayeschangept.main(**algo_kwargs1,json_data=json_data)\n",
    "print(res)"
   ]
  },
  {
   "cell_type": "markdown",
   "metadata": {},
   "source": [
    "## Test 8:\n",
    "#### Testing No Data exception :\n",
    "* To get empty dataframe we set from and to timestamp to be not in range of the timestamps in dataset analysed"
   ]
  },
  {
   "cell_type": "code",
   "execution_count": null,
   "metadata": {
    "collapsed": true
   },
   "outputs": [],
   "source": [
    "reader_kwargs1 = csv_helper.get_csv_kwargs()\n",
    "reader_kwargs1['from_timestamp'] = int(2**60)\n",
    "json_data = reader_helper.read(reader_kwargs1)\n",
    "algo_kwargs1 = algo_kwargs()\n",
    "res = bayeschangept.main(**algo_kwargs1,json_data=json_data)\n",
    "print(res)"
   ]
  },
  {
   "cell_type": "markdown",
   "metadata": {},
   "source": [
    "## Test 9:\n",
    "#### Testing Database connectivity  exception :\n",
    "* To test this we edit the db properties and run the algo"
   ]
  },
  {
   "cell_type": "code",
   "execution_count": null,
   "metadata": {
    "collapsed": true
   },
   "outputs": [],
   "source": [
    "writer_configs.table_name = 'f'"
   ]
  },
  {
   "cell_type": "code",
   "execution_count": null,
   "metadata": {
    "collapsed": true,
    "scrolled": true
   },
   "outputs": [],
   "source": [
    "db_properties.db_connection"
   ]
  },
  {
   "cell_type": "markdown",
   "metadata": {},
   "source": [
    "### We change the db name and we expect a database error as shown below"
   ]
  },
  {
   "cell_type": "code",
   "execution_count": null,
   "metadata": {
    "collapsed": true
   },
   "outputs": [],
   "source": [
    "db_properties.db_connection['dbname'] = 'eg'"
   ]
  },
  {
   "cell_type": "code",
   "execution_count": null,
   "metadata": {
    "collapsed": true
   },
   "outputs": [],
   "source": [
    "reader_kwargs1 = csv_helper.get_csv_kwargs()\n",
    "json_data = reader_helper.read(reader_kwargs1)\n",
    "algo_kwargs1 = algo_kwargs()\n",
    "algo_kwargs1['to_plot'] = False\n",
    "res = bayeschangept.main(**algo_kwargs1,json_data=json_data,mode=bayeschangept.mode_options[2])\n",
    "print(res)"
   ]
  },
  {
   "cell_type": "markdown",
   "metadata": {},
   "source": [
    "### Now we try to change the password of db properties and observe the exception handled"
   ]
  },
  {
   "cell_type": "code",
   "execution_count": null,
   "metadata": {
    "collapsed": true
   },
   "outputs": [],
   "source": [
    "db_properties.db_connection['password']='fef'"
   ]
  },
  {
   "cell_type": "code",
   "execution_count": null,
   "metadata": {
    "collapsed": true
   },
   "outputs": [],
   "source": [
    "reader_kwargs1 = csv_helper.get_csv_kwargs()\n",
    "json_data = reader_helper.read(reader_kwargs1)\n",
    "algo_kwargs1 = algo_kwargs()\n",
    "algo_kwargs1['to_plot'] = False\n",
    "res = bayeschangept.main(**algo_kwargs1,json_data=json_data,mode=bayeschangept.mode_options[2])\n",
    "print(res)"
   ]
  },
  {
   "cell_type": "code",
   "execution_count": null,
   "metadata": {
    "collapsed": true
   },
   "outputs": [],
   "source": [
    "%%writefile_run db_properties.py\n",
    "\n",
    "db_connection = {'dbname': 'Cerebra',\n",
    " 'host': '127.0.0.1',\n",
    " 'password': 'givemeachance',\n",
    " 'port': '5432',\n",
    " 'user': 'postgres'}"
   ]
  },
  {
   "cell_type": "markdown",
   "metadata": {},
   "source": [
    "### Now we change the table name in which we are writing, and we observe that relation doesn't exist as seen below"
   ]
  },
  {
   "cell_type": "code",
   "execution_count": null,
   "metadata": {
    "collapsed": true
   },
   "outputs": [],
   "source": [
    "writer_configs.table_name = 'ffee'"
   ]
  },
  {
   "cell_type": "code",
   "execution_count": null,
   "metadata": {
    "collapsed": true
   },
   "outputs": [],
   "source": [
    "\n",
    "reader_kwargs1 = csv_helper.get_csv_kwargs()\n",
    "# reader_kwargs1['from_timestamp'] = int(2**60)\n",
    "json_data = reader_helper.read(reader_kwargs1)\n",
    "algo_kwargs1 = algo_kwargs()\n",
    "algo_kwargs1['to_plot'] = False\n",
    "res = bayeschangept.main(**algo_kwargs1,json_data=json_data,mode=bayeschangept.mode_options[2])\n",
    "print(res)"
   ]
  },
  {
   "cell_type": "code",
   "execution_count": null,
   "metadata": {
    "collapsed": true
   },
   "outputs": [],
   "source": [
    "writer_configs.table_name = 'public.log_asset_timeline'"
   ]
  },
  {
   "cell_type": "markdown",
   "metadata": {},
   "source": [
    "## Test 10:\n",
    "#### Testing random exceptions :"
   ]
  },
  {
   "cell_type": "code",
   "execution_count": null,
   "metadata": {
    "collapsed": true
   },
   "outputs": [],
   "source": [
    "reader_kwargs1 = csv_helper.get_csv_kwargs()\n",
    "json_data = reader_helper.read(reader_kwargs1)\n",
    "algo_kwargs1 = algo_kwargs()\n",
    "algo_kwargs1['to_plot'] = False\n",
    "res = bayeschangept.main(**algo_kwargs1,json_data=json_data)\n",
    "print(res)"
   ]
  },
  {
   "cell_type": "markdown",
   "metadata": {},
   "source": [
    "## Test 11:\n",
    "#### Testing High Performance :"
   ]
  },
  {
   "cell_type": "code",
   "execution_count": 23,
   "metadata": {},
   "outputs": [
    {
     "name": "stdout",
     "output_type": "stream",
     "text": [
      "                  timestamp      0      1      2      3      4      5      6  \\\n",
      "0 1970-08-07 08:30:00-04:00  0.032 -0.156  0.027  0.027  0.002 -0.122 -0.034   \n",
      "1 1970-08-07 08:40:00-04:00 -0.071 -0.107  0.000  0.051 -0.178 -0.132 -0.078   \n",
      "2 1970-08-07 08:50:00-04:00 -0.132 -0.042 -0.044  0.012 -0.093 -0.120 -0.183   \n",
      "3 1970-08-07 09:00:00-04:00 -0.129 -0.122  0.002  0.037 -0.093 -0.288 -0.156   \n",
      "4 1970-08-07 09:10:00-04:00  0.022 -0.129 -0.144 -0.088 -0.024 -0.083 -0.129   \n",
      "\n",
      "       7   assetno  \n",
      "0 -0.151  TSFAD_A1  \n",
      "1 -0.051  TSFAD_A1  \n",
      "2 -0.100  TSFAD_A1  \n",
      "3 -0.090  TSFAD_A1  \n",
      "4 -0.098  TSFAD_A1  \n"
     ]
    }
   ],
   "source": [
    "reader_kwargs1= csv_helper.get_csv_kwargs(infile='../../dataset/bearings.csv',filename='bearings.csv',has_time=False)\n",
    "json_data = reader_helper.read(reader_kwargs=reader_kwargs1)\n",
    "model_input_args1,training_args1,eval_args1 = get_kwargs()"
   ]
  },
  {
   "cell_type": "code",
   "execution_count": 32,
   "metadata": {
    "scrolled": true
   },
   "outputs": [
    {
     "name": "stdout",
     "output_type": "stream",
     "text": [
      "Data reader initialised \n",
      "\n",
      "Getting the dataset from the reader....\n",
      "\n",
      "Data of Asset no: TSFAD_A1 \n",
      "               assetno         0         1         2         3         4  \\\n",
      "timestamp                                                                 \n",
      "18880200000  TSFAD_A1  1.441895 -0.803357  1.352302  1.589216  1.034719   \n",
      "18880800000  TSFAD_A1  0.277494 -0.160994  1.054745  1.901840 -0.911613   \n",
      "18881400000  TSFAD_A1 -0.412103  0.691120  0.569836  1.393826  0.007488   \n",
      "18882000000  TSFAD_A1 -0.378189 -0.357636  1.076786  1.719476  0.007488   \n",
      "18882600000  TSFAD_A1  1.328847 -0.449402 -0.532229  0.091225  0.753582   \n",
      "\n",
      "                    5         6         7  \n",
      "timestamp                                  \n",
      "18880200000 -0.289267  0.910978 -0.847651  \n",
      "18880800000 -0.392270  0.224991  0.600962  \n",
      "18881400000 -0.268666 -1.412023 -0.108858  \n",
      "18882000000 -1.999118 -0.991077  0.036003  \n",
      "18882600000  0.112445 -0.570130 -0.079886  \n",
      "\n",
      "Shape of the Entire dataset : torch.Size([20480, 8])\n",
      "\n",
      "torch.float64\n",
      "Shape of Training dataset :torch.Size([16384, 8]) and Test dataset :torch.Size([4096, 8])\n",
      "\n",
      "Network dimensions are 8 x 7 \n",
      "\n",
      "\n",
      "Shape of differenced Training data : (16383, 8)\n",
      "\n",
      "Epoch : 0 completed \n",
      " Max Bmu index : (0, 0)\n",
      "Epoch : 1 completed \n",
      " Max Bmu index : (0, 0)\n",
      "Epoch : 2 completed \n",
      " Max Bmu index : (0, 0)\n",
      "Epoch : 3 completed \n",
      " Max Bmu index : (0, 0)\n",
      "Epoch : 4 completed \n",
      " Max Bmu index : (0, 0)\n",
      "Epoch : 5 completed \n",
      " Max Bmu index : (0, 0)\n",
      "Epoch : 6 completed \n",
      " Max Bmu index : (0, 0)\n",
      "Epoch : 7 completed \n",
      " Max Bmu index : (0, 0)\n",
      "Epoch : 8 completed \n",
      " Max Bmu index : (0, 0)\n",
      "Epoch : 9 completed \n",
      " Max Bmu index : (0, 0)\n",
      "\n",
      " Training successfully completed \n",
      "\n",
      "\n",
      "Saved model : som_trained_model_0_1_2_3_4_5_6_7_1530378143807 in ../../Anomaly_Detection_Models/Machine_Learning_Models,\n",
      "Last Checkpointed at: 1530378143807\n",
      "\n",
      "Data reader initialised \n",
      "\n",
      "Getting the dataset from the reader....\n",
      "\n",
      "Data of Asset no: TSFAD_A1 \n",
      "               assetno         0         1         2         3         4  \\\n",
      "timestamp                                                                 \n",
      "18880200000  TSFAD_A1  1.441895 -0.803357  1.352302  1.589216  1.034719   \n",
      "18880800000  TSFAD_A1  0.277494 -0.160994  1.054745  1.901840 -0.911613   \n",
      "18881400000  TSFAD_A1 -0.412103  0.691120  0.569836  1.393826  0.007488   \n",
      "18882000000  TSFAD_A1 -0.378189 -0.357636  1.076786  1.719476  0.007488   \n",
      "18882600000  TSFAD_A1  1.328847 -0.449402 -0.532229  0.091225  0.753582   \n",
      "\n",
      "                    5         6         7  \n",
      "timestamp                                  \n",
      "18880200000 -0.289267  0.910978 -0.847651  \n",
      "18880800000 -0.392270  0.224991  0.600962  \n",
      "18881400000 -0.268666 -1.412023 -0.108858  \n",
      "18882000000 -1.999118 -0.991077  0.036003  \n",
      "18882600000  0.112445 -0.570130 -0.079886  \n",
      "\n",
      "Shape of the Entire dataset : torch.Size([20480, 8])\n",
      "\n",
      "Input data's shape: (20480, 8)\n",
      "Differenced data shape (20479, 8)\n",
      "(20479,)\n",
      "No of anomalies detected : 37, Fraction of data detected as anomaly : 0.001806640625\n",
      "\n",
      " No of Anomalies detected = 37\n",
      "Postgres writer initialised \n",
      "\n",
      "\n",
      "Multivariate writer initialised\n",
      "Database error : could not connect to server: Connection refused\n",
      "\tIs the server running on host \"127.0.0.1\" and accepting\n",
      "\tTCP/IP connections on port 5432?\n",
      "\n",
      "{\"detect_status\": {\"header\": {\"code\": \"200\", \"status\": \"OK\"}, \"body\": [{\"asset\": \"TSFAD_A1\", \"anomalies\": [{\"name\": \"0\", \"datapoints\": [{\"from_timestamp\": 19642800000, \"to_timestamp\": 19642800000, \"anomaly_timestamp\": [19642800000], \"anomaly_code\": \"som\"}, {\"from_timestamp\": 19757400000, \"to_timestamp\": 19757400000, \"anomaly_timestamp\": [19757400000], \"anomaly_code\": \"som\"}, {\"from_timestamp\": 19761600000, \"to_timestamp\": 19761600000, \"anomaly_timestamp\": [19761600000], \"anomaly_code\": \"som\"}, {\"from_timestamp\": 21348600000, \"to_timestamp\": 21348600000, \"anomaly_timestamp\": [21348600000], \"anomaly_code\": \"som\"}, {\"from_timestamp\": 21402600000, \"to_timestamp\": 21402600000, \"anomaly_timestamp\": [21402600000], \"anomaly_code\": \"som\"}, {\"from_timestamp\": 22130400000, \"to_timestamp\": 22130400000, \"anomaly_timestamp\": [22130400000], \"anomaly_code\": \"som\"}, {\"from_timestamp\": 22132800000, \"to_timestamp\": 22132800000, \"anomaly_timestamp\": [22132800000], \"anomaly_code\": \"som\"}, {\"from_timestamp\": 23038200000, \"to_timestamp\": 23038200000, \"anomaly_timestamp\": [23038200000], \"anomaly_code\": \"som\"}, {\"from_timestamp\": 23038800000, \"to_timestamp\": 23038800000, \"anomaly_timestamp\": [23038800000], \"anomaly_code\": \"som\"}, {\"from_timestamp\": 23040600000, \"to_timestamp\": 23040600000, \"anomaly_timestamp\": [23040600000], \"anomaly_code\": \"som\"}, {\"from_timestamp\": 23041800000, \"to_timestamp\": 23041800000, \"anomaly_timestamp\": [23041800000], \"anomaly_code\": \"som\"}, {\"from_timestamp\": 23042400000, \"to_timestamp\": 23042400000, \"anomaly_timestamp\": [23042400000], \"anomaly_code\": \"som\"}, {\"from_timestamp\": 23043000000, \"to_timestamp\": 23043000000, \"anomaly_timestamp\": [23043000000], \"anomaly_code\": \"som\"}, {\"from_timestamp\": 23043600000, \"to_timestamp\": 23043600000, \"anomaly_timestamp\": [23043600000], \"anomaly_code\": \"som\"}, {\"from_timestamp\": 23047200000, \"to_timestamp\": 23047200000, \"anomaly_timestamp\": [23047200000], \"anomaly_code\": \"som\"}, {\"from_timestamp\": 23065800000, \"to_timestamp\": 23065800000, \"anomaly_timestamp\": [23065800000], \"anomaly_code\": \"som\"}, {\"from_timestamp\": 23226000000, \"to_timestamp\": 23226000000, \"anomaly_timestamp\": [23226000000], \"anomaly_code\": \"som\"}, {\"from_timestamp\": 23228400000, \"to_timestamp\": 23228400000, \"anomaly_timestamp\": [23228400000], \"anomaly_code\": \"som\"}, {\"from_timestamp\": 26277000000, \"to_timestamp\": 26277000000, \"anomaly_timestamp\": [26277000000], \"anomaly_code\": \"som\"}, {\"from_timestamp\": 26277600000, \"to_timestamp\": 26277600000, \"anomaly_timestamp\": [26277600000], \"anomaly_code\": \"som\"}, {\"from_timestamp\": 26278200000, \"to_timestamp\": 26278200000, \"anomaly_timestamp\": [26278200000], \"anomaly_code\": \"som\"}, {\"from_timestamp\": 26278800000, \"to_timestamp\": 26278800000, \"anomaly_timestamp\": [26278800000], \"anomaly_code\": \"som\"}, {\"from_timestamp\": 26281800000, \"to_timestamp\": 26281800000, \"anomaly_timestamp\": [26281800000], \"anomaly_code\": \"som\"}, {\"from_timestamp\": 26285400000, \"to_timestamp\": 26285400000, \"anomaly_timestamp\": [26285400000], \"anomaly_code\": \"som\"}, {\"from_timestamp\": 26328000000, \"to_timestamp\": 26328000000, \"anomaly_timestamp\": [26328000000], \"anomaly_code\": \"som\"}, {\"from_timestamp\": 26332200000, \"to_timestamp\": 26332200000, \"anomaly_timestamp\": [26332200000], \"anomaly_code\": \"som\"}, {\"from_timestamp\": 26335200000, \"to_timestamp\": 26335200000, \"anomaly_timestamp\": [26335200000], \"anomaly_code\": \"som\"}, {\"from_timestamp\": 27823800000, \"to_timestamp\": 27823800000, \"anomaly_timestamp\": [27823800000], \"anomaly_code\": \"som\"}, {\"from_timestamp\": 27989400000, \"to_timestamp\": 27989400000, \"anomaly_timestamp\": [27989400000], \"anomaly_code\": \"som\"}, {\"from_timestamp\": 27990000000, \"to_timestamp\": 27990000000, \"anomaly_timestamp\": [27990000000], \"anomaly_code\": \"som\"}, {\"from_timestamp\": 28123200000, \"to_timestamp\": 28123200000, \"anomaly_timestamp\": [28123200000], \"anomaly_code\": \"som\"}, {\"from_timestamp\": 28149000000, \"to_timestamp\": 28149000000, \"anomaly_timestamp\": [28149000000], \"anomaly_code\": \"som\"}, {\"from_timestamp\": 28150800000, \"to_timestamp\": 28150800000, \"anomaly_timestamp\": [28150800000], \"anomaly_code\": \"som\"}, {\"from_timestamp\": 29556600000, \"to_timestamp\": 29556600000, \"anomaly_timestamp\": [29556600000], \"anomaly_code\": \"som\"}, {\"from_timestamp\": 29695200000, \"to_timestamp\": 29695200000, \"anomaly_timestamp\": [29695200000], \"anomaly_code\": \"som\"}, {\"from_timestamp\": 31095600000, \"to_timestamp\": 31095600000, \"anomaly_timestamp\": [31095600000], \"anomaly_code\": \"som\"}, {\"from_timestamp\": 31101000000, \"to_timestamp\": 31101000000, \"anomaly_timestamp\": [31101000000], \"anomaly_code\": \"som\"}]}, {\"name\": \"1\", \"datapoints\": [{\"from_timestamp\": 19642800000, \"to_timestamp\": 19642800000, \"anomaly_timestamp\": [19642800000], \"anomaly_code\": \"som\"}, {\"from_timestamp\": 19757400000, \"to_timestamp\": 19757400000, \"anomaly_timestamp\": [19757400000], \"anomaly_code\": \"som\"}, {\"from_timestamp\": 19761600000, \"to_timestamp\": 19761600000, \"anomaly_timestamp\": [19761600000], \"anomaly_code\": \"som\"}, {\"from_timestamp\": 21348600000, \"to_timestamp\": 21348600000, \"anomaly_timestamp\": [21348600000], \"anomaly_code\": \"som\"}, {\"from_timestamp\": 21402600000, \"to_timestamp\": 21402600000, \"anomaly_timestamp\": [21402600000], \"anomaly_code\": \"som\"}, {\"from_timestamp\": 22130400000, \"to_timestamp\": 22130400000, \"anomaly_timestamp\": [22130400000], \"anomaly_code\": \"som\"}, {\"from_timestamp\": 22132800000, \"to_timestamp\": 22132800000, \"anomaly_timestamp\": [22132800000], \"anomaly_code\": \"som\"}, {\"from_timestamp\": 23038200000, \"to_timestamp\": 23038200000, \"anomaly_timestamp\": [23038200000], \"anomaly_code\": \"som\"}, {\"from_timestamp\": 23038800000, \"to_timestamp\": 23038800000, \"anomaly_timestamp\": [23038800000], \"anomaly_code\": \"som\"}, {\"from_timestamp\": 23040600000, \"to_timestamp\": 23040600000, \"anomaly_timestamp\": [23040600000], \"anomaly_code\": \"som\"}, {\"from_timestamp\": 23041800000, \"to_timestamp\": 23041800000, \"anomaly_timestamp\": [23041800000], \"anomaly_code\": \"som\"}, {\"from_timestamp\": 23042400000, \"to_timestamp\": 23042400000, \"anomaly_timestamp\": [23042400000], \"anomaly_code\": \"som\"}, {\"from_timestamp\": 23043000000, \"to_timestamp\": 23043000000, \"anomaly_timestamp\": [23043000000], \"anomaly_code\": \"som\"}, {\"from_timestamp\": 23043600000, \"to_timestamp\": 23043600000, \"anomaly_timestamp\": [23043600000], \"anomaly_code\": \"som\"}, {\"from_timestamp\": 23047200000, \"to_timestamp\": 23047200000, \"anomaly_timestamp\": [23047200000], \"anomaly_code\": \"som\"}, {\"from_timestamp\": 23065800000, \"to_timestamp\": 23065800000, \"anomaly_timestamp\": [23065800000], \"anomaly_code\": \"som\"}, {\"from_timestamp\": 23226000000, \"to_timestamp\": 23226000000, \"anomaly_timestamp\": [23226000000], \"anomaly_code\": \"som\"}, {\"from_timestamp\": 23228400000, \"to_timestamp\": 23228400000, \"anomaly_timestamp\": [23228400000], \"anomaly_code\": \"som\"}, {\"from_timestamp\": 26277000000, \"to_timestamp\": 26277000000, \"anomaly_timestamp\": [26277000000], \"anomaly_code\": \"som\"}, {\"from_timestamp\": 26277600000, \"to_timestamp\": 26277600000, \"anomaly_timestamp\": [26277600000], \"anomaly_code\": \"som\"}, {\"from_timestamp\": 26278200000, \"to_timestamp\": 26278200000, \"anomaly_timestamp\": [26278200000], \"anomaly_code\": \"som\"}, {\"from_timestamp\": 26278800000, \"to_timestamp\": 26278800000, \"anomaly_timestamp\": [26278800000], \"anomaly_code\": \"som\"}, {\"from_timestamp\": 26281800000, \"to_timestamp\": 26281800000, \"anomaly_timestamp\": [26281800000], \"anomaly_code\": \"som\"}, {\"from_timestamp\": 26285400000, \"to_timestamp\": 26285400000, \"anomaly_timestamp\": [26285400000], \"anomaly_code\": \"som\"}, {\"from_timestamp\": 26328000000, \"to_timestamp\": 26328000000, \"anomaly_timestamp\": [26328000000], \"anomaly_code\": \"som\"}, {\"from_timestamp\": 26332200000, \"to_timestamp\": 26332200000, \"anomaly_timestamp\": [26332200000], \"anomaly_code\": \"som\"}, {\"from_timestamp\": 26335200000, \"to_timestamp\": 26335200000, \"anomaly_timestamp\": [26335200000], \"anomaly_code\": \"som\"}, {\"from_timestamp\": 27823800000, \"to_timestamp\": 27823800000, \"anomaly_timestamp\": [27823800000], \"anomaly_code\": \"som\"}, {\"from_timestamp\": 27989400000, \"to_timestamp\": 27989400000, \"anomaly_timestamp\": [27989400000], \"anomaly_code\": \"som\"}, {\"from_timestamp\": 27990000000, \"to_timestamp\": 27990000000, \"anomaly_timestamp\": [27990000000], \"anomaly_code\": \"som\"}, {\"from_timestamp\": 28123200000, \"to_timestamp\": 28123200000, \"anomaly_timestamp\": [28123200000], \"anomaly_code\": \"som\"}, {\"from_timestamp\": 28149000000, \"to_timestamp\": 28149000000, \"anomaly_timestamp\": [28149000000], \"anomaly_code\": \"som\"}, {\"from_timestamp\": 28150800000, \"to_timestamp\": 28150800000, \"anomaly_timestamp\": [28150800000], \"anomaly_code\": \"som\"}, {\"from_timestamp\": 29556600000, \"to_timestamp\": 29556600000, \"anomaly_timestamp\": [29556600000], \"anomaly_code\": \"som\"}, {\"from_timestamp\": 29695200000, \"to_timestamp\": 29695200000, \"anomaly_timestamp\": [29695200000], \"anomaly_code\": \"som\"}, {\"from_timestamp\": 31095600000, \"to_timestamp\": 31095600000, \"anomaly_timestamp\": [31095600000], \"anomaly_code\": \"som\"}, {\"from_timestamp\": 31101000000, \"to_timestamp\": 31101000000, \"anomaly_timestamp\": [31101000000], \"anomaly_code\": \"som\"}]}, {\"name\": \"2\", \"datapoints\": [{\"from_timestamp\": 19642800000, \"to_timestamp\": 19642800000, \"anomaly_timestamp\": [19642800000], \"anomaly_code\": \"som\"}, {\"from_timestamp\": 19757400000, \"to_timestamp\": 19757400000, \"anomaly_timestamp\": [19757400000], \"anomaly_code\": \"som\"}, {\"from_timestamp\": 19761600000, \"to_timestamp\": 19761600000, \"anomaly_timestamp\": [19761600000], \"anomaly_code\": \"som\"}, {\"from_timestamp\": 21348600000, \"to_timestamp\": 21348600000, \"anomaly_timestamp\": [21348600000], \"anomaly_code\": \"som\"}, {\"from_timestamp\": 21402600000, \"to_timestamp\": 21402600000, \"anomaly_timestamp\": [21402600000], \"anomaly_code\": \"som\"}, {\"from_timestamp\": 22130400000, \"to_timestamp\": 22130400000, \"anomaly_timestamp\": [22130400000], \"anomaly_code\": \"som\"}, {\"from_timestamp\": 22132800000, \"to_timestamp\": 22132800000, \"anomaly_timestamp\": [22132800000], \"anomaly_code\": \"som\"}, {\"from_timestamp\": 23038200000, \"to_timestamp\": 23038200000, \"anomaly_timestamp\": [23038200000], \"anomaly_code\": \"som\"}, {\"from_timestamp\": 23038800000, \"to_timestamp\": 23038800000, \"anomaly_timestamp\": [23038800000], \"anomaly_code\": \"som\"}, {\"from_timestamp\": 23040600000, \"to_timestamp\": 23040600000, \"anomaly_timestamp\": [23040600000], \"anomaly_code\": \"som\"}, {\"from_timestamp\": 23041800000, \"to_timestamp\": 23041800000, \"anomaly_timestamp\": [23041800000], \"anomaly_code\": \"som\"}, {\"from_timestamp\": 23042400000, \"to_timestamp\": 23042400000, \"anomaly_timestamp\": [23042400000], \"anomaly_code\": \"som\"}, {\"from_timestamp\": 23043000000, \"to_timestamp\": 23043000000, \"anomaly_timestamp\": [23043000000], \"anomaly_code\": \"som\"}, {\"from_timestamp\": 23043600000, \"to_timestamp\": 23043600000, \"anomaly_timestamp\": [23043600000], \"anomaly_code\": \"som\"}, {\"from_timestamp\": 23047200000, \"to_timestamp\": 23047200000, \"anomaly_timestamp\": [23047200000], \"anomaly_code\": \"som\"}, {\"from_timestamp\": 23065800000, \"to_timestamp\": 23065800000, \"anomaly_timestamp\": [23065800000], \"anomaly_code\": \"som\"}, {\"from_timestamp\": 23226000000, \"to_timestamp\": 23226000000, \"anomaly_timestamp\": [23226000000], \"anomaly_code\": \"som\"}, {\"from_timestamp\": 23228400000, \"to_timestamp\": 23228400000, \"anomaly_timestamp\": [23228400000], \"anomaly_code\": \"som\"}, {\"from_timestamp\": 26277000000, \"to_timestamp\": 26277000000, \"anomaly_timestamp\": [26277000000], \"anomaly_code\": \"som\"}, {\"from_timestamp\": 26277600000, \"to_timestamp\": 26277600000, \"anomaly_timestamp\": [26277600000], \"anomaly_code\": \"som\"}, {\"from_timestamp\": 26278200000, \"to_timestamp\": 26278200000, \"anomaly_timestamp\": [26278200000], \"anomaly_code\": \"som\"}, {\"from_timestamp\": 26278800000, \"to_timestamp\": 26278800000, \"anomaly_timestamp\": [26278800000], \"anomaly_code\": \"som\"}, {\"from_timestamp\": 26281800000, \"to_timestamp\": 26281800000, \"anomaly_timestamp\": [26281800000], \"anomaly_code\": \"som\"}, {\"from_timestamp\": 26285400000, \"to_timestamp\": 26285400000, \"anomaly_timestamp\": [26285400000], \"anomaly_code\": \"som\"}, {\"from_timestamp\": 26328000000, \"to_timestamp\": 26328000000, \"anomaly_timestamp\": [26328000000], \"anomaly_code\": \"som\"}, {\"from_timestamp\": 26332200000, \"to_timestamp\": 26332200000, \"anomaly_timestamp\": [26332200000], \"anomaly_code\": \"som\"}, {\"from_timestamp\": 26335200000, \"to_timestamp\": 26335200000, \"anomaly_timestamp\": [26335200000], \"anomaly_code\": \"som\"}, {\"from_timestamp\": 27823800000, \"to_timestamp\": 27823800000, \"anomaly_timestamp\": [27823800000], \"anomaly_code\": \"som\"}, {\"from_timestamp\": 27989400000, \"to_timestamp\": 27989400000, \"anomaly_timestamp\": [27989400000], \"anomaly_code\": \"som\"}, {\"from_timestamp\": 27990000000, \"to_timestamp\": 27990000000, \"anomaly_timestamp\": [27990000000], \"anomaly_code\": \"som\"}, {\"from_timestamp\": 28123200000, \"to_timestamp\": 28123200000, \"anomaly_timestamp\": [28123200000], \"anomaly_code\": \"som\"}, {\"from_timestamp\": 28149000000, \"to_timestamp\": 28149000000, \"anomaly_timestamp\": [28149000000], \"anomaly_code\": \"som\"}, {\"from_timestamp\": 28150800000, \"to_timestamp\": 28150800000, \"anomaly_timestamp\": [28150800000], \"anomaly_code\": \"som\"}, {\"from_timestamp\": 29556600000, \"to_timestamp\": 29556600000, \"anomaly_timestamp\": [29556600000], \"anomaly_code\": \"som\"}, {\"from_timestamp\": 29695200000, \"to_timestamp\": 29695200000, \"anomaly_timestamp\": [29695200000], \"anomaly_code\": \"som\"}, {\"from_timestamp\": 31095600000, \"to_timestamp\": 31095600000, \"anomaly_timestamp\": [31095600000], \"anomaly_code\": \"som\"}, {\"from_timestamp\": 31101000000, \"to_timestamp\": 31101000000, \"anomaly_timestamp\": [31101000000], \"anomaly_code\": \"som\"}]}, {\"name\": \"3\", \"datapoints\": [{\"from_timestamp\": 19642800000, \"to_timestamp\": 19642800000, \"anomaly_timestamp\": [19642800000], \"anomaly_code\": \"som\"}, {\"from_timestamp\": 19757400000, \"to_timestamp\": 19757400000, \"anomaly_timestamp\": [19757400000], \"anomaly_code\": \"som\"}, {\"from_timestamp\": 19761600000, \"to_timestamp\": 19761600000, \"anomaly_timestamp\": [19761600000], \"anomaly_code\": \"som\"}, {\"from_timestamp\": 21348600000, \"to_timestamp\": 21348600000, \"anomaly_timestamp\": [21348600000], \"anomaly_code\": \"som\"}, {\"from_timestamp\": 21402600000, \"to_timestamp\": 21402600000, \"anomaly_timestamp\": [21402600000], \"anomaly_code\": \"som\"}, {\"from_timestamp\": 22130400000, \"to_timestamp\": 22130400000, \"anomaly_timestamp\": [22130400000], \"anomaly_code\": \"som\"}, {\"from_timestamp\": 22132800000, \"to_timestamp\": 22132800000, \"anomaly_timestamp\": [22132800000], \"anomaly_code\": \"som\"}, {\"from_timestamp\": 23038200000, \"to_timestamp\": 23038200000, \"anomaly_timestamp\": [23038200000], \"anomaly_code\": \"som\"}, {\"from_timestamp\": 23038800000, \"to_timestamp\": 23038800000, \"anomaly_timestamp\": [23038800000], \"anomaly_code\": \"som\"}, {\"from_timestamp\": 23040600000, \"to_timestamp\": 23040600000, \"anomaly_timestamp\": [23040600000], \"anomaly_code\": \"som\"}, {\"from_timestamp\": 23041800000, \"to_timestamp\": 23041800000, \"anomaly_timestamp\": [23041800000], \"anomaly_code\": \"som\"}, {\"from_timestamp\": 23042400000, \"to_timestamp\": 23042400000, \"anomaly_timestamp\": [23042400000], \"anomaly_code\": \"som\"}, {\"from_timestamp\": 23043000000, \"to_timestamp\": 23043000000, \"anomaly_timestamp\": [23043000000], \"anomaly_code\": \"som\"}, {\"from_timestamp\": 23043600000, \"to_timestamp\": 23043600000, \"anomaly_timestamp\": [23043600000], \"anomaly_code\": \"som\"}, {\"from_timestamp\": 23047200000, \"to_timestamp\": 23047200000, \"anomaly_timestamp\": [23047200000], \"anomaly_code\": \"som\"}, {\"from_timestamp\": 23065800000, \"to_timestamp\": 23065800000, \"anomaly_timestamp\": [23065800000], \"anomaly_code\": \"som\"}, {\"from_timestamp\": 23226000000, \"to_timestamp\": 23226000000, \"anomaly_timestamp\": [23226000000], \"anomaly_code\": \"som\"}, {\"from_timestamp\": 23228400000, \"to_timestamp\": 23228400000, \"anomaly_timestamp\": [23228400000], \"anomaly_code\": \"som\"}, {\"from_timestamp\": 26277000000, \"to_timestamp\": 26277000000, \"anomaly_timestamp\": [26277000000], \"anomaly_code\": \"som\"}, {\"from_timestamp\": 26277600000, \"to_timestamp\": 26277600000, \"anomaly_timestamp\": [26277600000], \"anomaly_code\": \"som\"}, {\"from_timestamp\": 26278200000, \"to_timestamp\": 26278200000, \"anomaly_timestamp\": [26278200000], \"anomaly_code\": \"som\"}, {\"from_timestamp\": 26278800000, \"to_timestamp\": 26278800000, \"anomaly_timestamp\": [26278800000], \"anomaly_code\": \"som\"}, {\"from_timestamp\": 26281800000, \"to_timestamp\": 26281800000, \"anomaly_timestamp\": [26281800000], \"anomaly_code\": \"som\"}, {\"from_timestamp\": 26285400000, \"to_timestamp\": 26285400000, \"anomaly_timestamp\": [26285400000], \"anomaly_code\": \"som\"}, {\"from_timestamp\": 26328000000, \"to_timestamp\": 26328000000, \"anomaly_timestamp\": [26328000000], \"anomaly_code\": \"som\"}, {\"from_timestamp\": 26332200000, \"to_timestamp\": 26332200000, \"anomaly_timestamp\": [26332200000], \"anomaly_code\": \"som\"}, {\"from_timestamp\": 26335200000, \"to_timestamp\": 26335200000, \"anomaly_timestamp\": [26335200000], \"anomaly_code\": \"som\"}, {\"from_timestamp\": 27823800000, \"to_timestamp\": 27823800000, \"anomaly_timestamp\": [27823800000], \"anomaly_code\": \"som\"}, {\"from_timestamp\": 27989400000, \"to_timestamp\": 27989400000, \"anomaly_timestamp\": [27989400000], \"anomaly_code\": \"som\"}, {\"from_timestamp\": 27990000000, \"to_timestamp\": 27990000000, \"anomaly_timestamp\": [27990000000], \"anomaly_code\": \"som\"}, {\"from_timestamp\": 28123200000, \"to_timestamp\": 28123200000, \"anomaly_timestamp\": [28123200000], \"anomaly_code\": \"som\"}, {\"from_timestamp\": 28149000000, \"to_timestamp\": 28149000000, \"anomaly_timestamp\": [28149000000], \"anomaly_code\": \"som\"}, {\"from_timestamp\": 28150800000, \"to_timestamp\": 28150800000, \"anomaly_timestamp\": [28150800000], \"anomaly_code\": \"som\"}, {\"from_timestamp\": 29556600000, \"to_timestamp\": 29556600000, \"anomaly_timestamp\": [29556600000], \"anomaly_code\": \"som\"}, {\"from_timestamp\": 29695200000, \"to_timestamp\": 29695200000, \"anomaly_timestamp\": [29695200000], \"anomaly_code\": \"som\"}, {\"from_timestamp\": 31095600000, \"to_timestamp\": 31095600000, \"anomaly_timestamp\": [31095600000], \"anomaly_code\": \"som\"}, {\"from_timestamp\": 31101000000, \"to_timestamp\": 31101000000, \"anomaly_timestamp\": [31101000000], \"anomaly_code\": \"som\"}]}, {\"name\": \"4\", \"datapoints\": [{\"from_timestamp\": 19642800000, \"to_timestamp\": 19642800000, \"anomaly_timestamp\": [19642800000], \"anomaly_code\": \"som\"}, {\"from_timestamp\": 19757400000, \"to_timestamp\": 19757400000, \"anomaly_timestamp\": [19757400000], \"anomaly_code\": \"som\"}, {\"from_timestamp\": 19761600000, \"to_timestamp\": 19761600000, \"anomaly_timestamp\": [19761600000], \"anomaly_code\": \"som\"}, {\"from_timestamp\": 21348600000, \"to_timestamp\": 21348600000, \"anomaly_timestamp\": [21348600000], \"anomaly_code\": \"som\"}, {\"from_timestamp\": 21402600000, \"to_timestamp\": 21402600000, \"anomaly_timestamp\": [21402600000], \"anomaly_code\": \"som\"}, {\"from_timestamp\": 22130400000, \"to_timestamp\": 22130400000, \"anomaly_timestamp\": [22130400000], \"anomaly_code\": \"som\"}, {\"from_timestamp\": 22132800000, \"to_timestamp\": 22132800000, \"anomaly_timestamp\": [22132800000], \"anomaly_code\": \"som\"}, {\"from_timestamp\": 23038200000, \"to_timestamp\": 23038200000, \"anomaly_timestamp\": [23038200000], \"anomaly_code\": \"som\"}, {\"from_timestamp\": 23038800000, \"to_timestamp\": 23038800000, \"anomaly_timestamp\": [23038800000], \"anomaly_code\": \"som\"}, {\"from_timestamp\": 23040600000, \"to_timestamp\": 23040600000, \"anomaly_timestamp\": [23040600000], \"anomaly_code\": \"som\"}, {\"from_timestamp\": 23041800000, \"to_timestamp\": 23041800000, \"anomaly_timestamp\": [23041800000], \"anomaly_code\": \"som\"}, {\"from_timestamp\": 23042400000, \"to_timestamp\": 23042400000, \"anomaly_timestamp\": [23042400000], \"anomaly_code\": \"som\"}, {\"from_timestamp\": 23043000000, \"to_timestamp\": 23043000000, \"anomaly_timestamp\": [23043000000], \"anomaly_code\": \"som\"}, {\"from_timestamp\": 23043600000, \"to_timestamp\": 23043600000, \"anomaly_timestamp\": [23043600000], \"anomaly_code\": \"som\"}, {\"from_timestamp\": 23047200000, \"to_timestamp\": 23047200000, \"anomaly_timestamp\": [23047200000], \"anomaly_code\": \"som\"}, {\"from_timestamp\": 23065800000, \"to_timestamp\": 23065800000, \"anomaly_timestamp\": [23065800000], \"anomaly_code\": \"som\"}, {\"from_timestamp\": 23226000000, \"to_timestamp\": 23226000000, \"anomaly_timestamp\": [23226000000], \"anomaly_code\": \"som\"}, {\"from_timestamp\": 23228400000, \"to_timestamp\": 23228400000, \"anomaly_timestamp\": [23228400000], \"anomaly_code\": \"som\"}, {\"from_timestamp\": 26277000000, \"to_timestamp\": 26277000000, \"anomaly_timestamp\": [26277000000], \"anomaly_code\": \"som\"}, {\"from_timestamp\": 26277600000, \"to_timestamp\": 26277600000, \"anomaly_timestamp\": [26277600000], \"anomaly_code\": \"som\"}, {\"from_timestamp\": 26278200000, \"to_timestamp\": 26278200000, \"anomaly_timestamp\": [26278200000], \"anomaly_code\": \"som\"}, {\"from_timestamp\": 26278800000, \"to_timestamp\": 26278800000, \"anomaly_timestamp\": [26278800000], \"anomaly_code\": \"som\"}, {\"from_timestamp\": 26281800000, \"to_timestamp\": 26281800000, \"anomaly_timestamp\": [26281800000], \"anomaly_code\": \"som\"}, {\"from_timestamp\": 26285400000, \"to_timestamp\": 26285400000, \"anomaly_timestamp\": [26285400000], \"anomaly_code\": \"som\"}, {\"from_timestamp\": 26328000000, \"to_timestamp\": 26328000000, \"anomaly_timestamp\": [26328000000], \"anomaly_code\": \"som\"}, {\"from_timestamp\": 26332200000, \"to_timestamp\": 26332200000, \"anomaly_timestamp\": [26332200000], \"anomaly_code\": \"som\"}, {\"from_timestamp\": 26335200000, \"to_timestamp\": 26335200000, \"anomaly_timestamp\": [26335200000], \"anomaly_code\": \"som\"}, {\"from_timestamp\": 27823800000, \"to_timestamp\": 27823800000, \"anomaly_timestamp\": [27823800000], \"anomaly_code\": \"som\"}, {\"from_timestamp\": 27989400000, \"to_timestamp\": 27989400000, \"anomaly_timestamp\": [27989400000], \"anomaly_code\": \"som\"}, {\"from_timestamp\": 27990000000, \"to_timestamp\": 27990000000, \"anomaly_timestamp\": [27990000000], \"anomaly_code\": \"som\"}, {\"from_timestamp\": 28123200000, \"to_timestamp\": 28123200000, \"anomaly_timestamp\": [28123200000], \"anomaly_code\": \"som\"}, {\"from_timestamp\": 28149000000, \"to_timestamp\": 28149000000, \"anomaly_timestamp\": [28149000000], \"anomaly_code\": \"som\"}, {\"from_timestamp\": 28150800000, \"to_timestamp\": 28150800000, \"anomaly_timestamp\": [28150800000], \"anomaly_code\": \"som\"}, {\"from_timestamp\": 29556600000, \"to_timestamp\": 29556600000, \"anomaly_timestamp\": [29556600000], \"anomaly_code\": \"som\"}, {\"from_timestamp\": 29695200000, \"to_timestamp\": 29695200000, \"anomaly_timestamp\": [29695200000], \"anomaly_code\": \"som\"}, {\"from_timestamp\": 31095600000, \"to_timestamp\": 31095600000, \"anomaly_timestamp\": [31095600000], \"anomaly_code\": \"som\"}, {\"from_timestamp\": 31101000000, \"to_timestamp\": 31101000000, \"anomaly_timestamp\": [31101000000], \"anomaly_code\": \"som\"}]}, {\"name\": \"5\", \"datapoints\": [{\"from_timestamp\": 19642800000, \"to_timestamp\": 19642800000, \"anomaly_timestamp\": [19642800000], \"anomaly_code\": \"som\"}, {\"from_timestamp\": 19757400000, \"to_timestamp\": 19757400000, \"anomaly_timestamp\": [19757400000], \"anomaly_code\": \"som\"}, {\"from_timestamp\": 19761600000, \"to_timestamp\": 19761600000, \"anomaly_timestamp\": [19761600000], \"anomaly_code\": \"som\"}, {\"from_timestamp\": 21348600000, \"to_timestamp\": 21348600000, \"anomaly_timestamp\": [21348600000], \"anomaly_code\": \"som\"}, {\"from_timestamp\": 21402600000, \"to_timestamp\": 21402600000, \"anomaly_timestamp\": [21402600000], \"anomaly_code\": \"som\"}, {\"from_timestamp\": 22130400000, \"to_timestamp\": 22130400000, \"anomaly_timestamp\": [22130400000], \"anomaly_code\": \"som\"}, {\"from_timestamp\": 22132800000, \"to_timestamp\": 22132800000, \"anomaly_timestamp\": [22132800000], \"anomaly_code\": \"som\"}, {\"from_timestamp\": 23038200000, \"to_timestamp\": 23038200000, \"anomaly_timestamp\": [23038200000], \"anomaly_code\": \"som\"}, {\"from_timestamp\": 23038800000, \"to_timestamp\": 23038800000, \"anomaly_timestamp\": [23038800000], \"anomaly_code\": \"som\"}, {\"from_timestamp\": 23040600000, \"to_timestamp\": 23040600000, \"anomaly_timestamp\": [23040600000], \"anomaly_code\": \"som\"}, {\"from_timestamp\": 23041800000, \"to_timestamp\": 23041800000, \"anomaly_timestamp\": [23041800000], \"anomaly_code\": \"som\"}, {\"from_timestamp\": 23042400000, \"to_timestamp\": 23042400000, \"anomaly_timestamp\": [23042400000], \"anomaly_code\": \"som\"}, {\"from_timestamp\": 23043000000, \"to_timestamp\": 23043000000, \"anomaly_timestamp\": [23043000000], \"anomaly_code\": \"som\"}, {\"from_timestamp\": 23043600000, \"to_timestamp\": 23043600000, \"anomaly_timestamp\": [23043600000], \"anomaly_code\": \"som\"}, {\"from_timestamp\": 23047200000, \"to_timestamp\": 23047200000, \"anomaly_timestamp\": [23047200000], \"anomaly_code\": \"som\"}, {\"from_timestamp\": 23065800000, \"to_timestamp\": 23065800000, \"anomaly_timestamp\": [23065800000], \"anomaly_code\": \"som\"}, {\"from_timestamp\": 23226000000, \"to_timestamp\": 23226000000, \"anomaly_timestamp\": [23226000000], \"anomaly_code\": \"som\"}, {\"from_timestamp\": 23228400000, \"to_timestamp\": 23228400000, \"anomaly_timestamp\": [23228400000], \"anomaly_code\": \"som\"}, {\"from_timestamp\": 26277000000, \"to_timestamp\": 26277000000, \"anomaly_timestamp\": [26277000000], \"anomaly_code\": \"som\"}, {\"from_timestamp\": 26277600000, \"to_timestamp\": 26277600000, \"anomaly_timestamp\": [26277600000], \"anomaly_code\": \"som\"}, {\"from_timestamp\": 26278200000, \"to_timestamp\": 26278200000, \"anomaly_timestamp\": [26278200000], \"anomaly_code\": \"som\"}, {\"from_timestamp\": 26278800000, \"to_timestamp\": 26278800000, \"anomaly_timestamp\": [26278800000], \"anomaly_code\": \"som\"}, {\"from_timestamp\": 26281800000, \"to_timestamp\": 26281800000, \"anomaly_timestamp\": [26281800000], \"anomaly_code\": \"som\"}, {\"from_timestamp\": 26285400000, \"to_timestamp\": 26285400000, \"anomaly_timestamp\": [26285400000], \"anomaly_code\": \"som\"}, {\"from_timestamp\": 26328000000, \"to_timestamp\": 26328000000, \"anomaly_timestamp\": [26328000000], \"anomaly_code\": \"som\"}, {\"from_timestamp\": 26332200000, \"to_timestamp\": 26332200000, \"anomaly_timestamp\": [26332200000], \"anomaly_code\": \"som\"}, {\"from_timestamp\": 26335200000, \"to_timestamp\": 26335200000, \"anomaly_timestamp\": [26335200000], \"anomaly_code\": \"som\"}, {\"from_timestamp\": 27823800000, \"to_timestamp\": 27823800000, \"anomaly_timestamp\": [27823800000], \"anomaly_code\": \"som\"}, {\"from_timestamp\": 27989400000, \"to_timestamp\": 27989400000, \"anomaly_timestamp\": [27989400000], \"anomaly_code\": \"som\"}, {\"from_timestamp\": 27990000000, \"to_timestamp\": 27990000000, \"anomaly_timestamp\": [27990000000], \"anomaly_code\": \"som\"}, {\"from_timestamp\": 28123200000, \"to_timestamp\": 28123200000, \"anomaly_timestamp\": [28123200000], \"anomaly_code\": \"som\"}, {\"from_timestamp\": 28149000000, \"to_timestamp\": 28149000000, \"anomaly_timestamp\": [28149000000], \"anomaly_code\": \"som\"}, {\"from_timestamp\": 28150800000, \"to_timestamp\": 28150800000, \"anomaly_timestamp\": [28150800000], \"anomaly_code\": \"som\"}, {\"from_timestamp\": 29556600000, \"to_timestamp\": 29556600000, \"anomaly_timestamp\": [29556600000], \"anomaly_code\": \"som\"}, {\"from_timestamp\": 29695200000, \"to_timestamp\": 29695200000, \"anomaly_timestamp\": [29695200000], \"anomaly_code\": \"som\"}, {\"from_timestamp\": 31095600000, \"to_timestamp\": 31095600000, \"anomaly_timestamp\": [31095600000], \"anomaly_code\": \"som\"}, {\"from_timestamp\": 31101000000, \"to_timestamp\": 31101000000, \"anomaly_timestamp\": [31101000000], \"anomaly_code\": \"som\"}]}, {\"name\": \"6\", \"datapoints\": [{\"from_timestamp\": 19642800000, \"to_timestamp\": 19642800000, \"anomaly_timestamp\": [19642800000], \"anomaly_code\": \"som\"}, {\"from_timestamp\": 19757400000, \"to_timestamp\": 19757400000, \"anomaly_timestamp\": [19757400000], \"anomaly_code\": \"som\"}, {\"from_timestamp\": 19761600000, \"to_timestamp\": 19761600000, \"anomaly_timestamp\": [19761600000], \"anomaly_code\": \"som\"}, {\"from_timestamp\": 21348600000, \"to_timestamp\": 21348600000, \"anomaly_timestamp\": [21348600000], \"anomaly_code\": \"som\"}, {\"from_timestamp\": 21402600000, \"to_timestamp\": 21402600000, \"anomaly_timestamp\": [21402600000], \"anomaly_code\": \"som\"}, {\"from_timestamp\": 22130400000, \"to_timestamp\": 22130400000, \"anomaly_timestamp\": [22130400000], \"anomaly_code\": \"som\"}, {\"from_timestamp\": 22132800000, \"to_timestamp\": 22132800000, \"anomaly_timestamp\": [22132800000], \"anomaly_code\": \"som\"}, {\"from_timestamp\": 23038200000, \"to_timestamp\": 23038200000, \"anomaly_timestamp\": [23038200000], \"anomaly_code\": \"som\"}, {\"from_timestamp\": 23038800000, \"to_timestamp\": 23038800000, \"anomaly_timestamp\": [23038800000], \"anomaly_code\": \"som\"}, {\"from_timestamp\": 23040600000, \"to_timestamp\": 23040600000, \"anomaly_timestamp\": [23040600000], \"anomaly_code\": \"som\"}, {\"from_timestamp\": 23041800000, \"to_timestamp\": 23041800000, \"anomaly_timestamp\": [23041800000], \"anomaly_code\": \"som\"}, {\"from_timestamp\": 23042400000, \"to_timestamp\": 23042400000, \"anomaly_timestamp\": [23042400000], \"anomaly_code\": \"som\"}, {\"from_timestamp\": 23043000000, \"to_timestamp\": 23043000000, \"anomaly_timestamp\": [23043000000], \"anomaly_code\": \"som\"}, {\"from_timestamp\": 23043600000, \"to_timestamp\": 23043600000, \"anomaly_timestamp\": [23043600000], \"anomaly_code\": \"som\"}, {\"from_timestamp\": 23047200000, \"to_timestamp\": 23047200000, \"anomaly_timestamp\": [23047200000], \"anomaly_code\": \"som\"}, {\"from_timestamp\": 23065800000, \"to_timestamp\": 23065800000, \"anomaly_timestamp\": [23065800000], \"anomaly_code\": \"som\"}, {\"from_timestamp\": 23226000000, \"to_timestamp\": 23226000000, \"anomaly_timestamp\": [23226000000], \"anomaly_code\": \"som\"}, {\"from_timestamp\": 23228400000, \"to_timestamp\": 23228400000, \"anomaly_timestamp\": [23228400000], \"anomaly_code\": \"som\"}, {\"from_timestamp\": 26277000000, \"to_timestamp\": 26277000000, \"anomaly_timestamp\": [26277000000], \"anomaly_code\": \"som\"}, {\"from_timestamp\": 26277600000, \"to_timestamp\": 26277600000, \"anomaly_timestamp\": [26277600000], \"anomaly_code\": \"som\"}, {\"from_timestamp\": 26278200000, \"to_timestamp\": 26278200000, \"anomaly_timestamp\": [26278200000], \"anomaly_code\": \"som\"}, {\"from_timestamp\": 26278800000, \"to_timestamp\": 26278800000, \"anomaly_timestamp\": [26278800000], \"anomaly_code\": \"som\"}, {\"from_timestamp\": 26281800000, \"to_timestamp\": 26281800000, \"anomaly_timestamp\": [26281800000], \"anomaly_code\": \"som\"}, {\"from_timestamp\": 26285400000, \"to_timestamp\": 26285400000, \"anomaly_timestamp\": [26285400000], \"anomaly_code\": \"som\"}, {\"from_timestamp\": 26328000000, \"to_timestamp\": 26328000000, \"anomaly_timestamp\": [26328000000], \"anomaly_code\": \"som\"}, {\"from_timestamp\": 26332200000, \"to_timestamp\": 26332200000, \"anomaly_timestamp\": [26332200000], \"anomaly_code\": \"som\"}, {\"from_timestamp\": 26335200000, \"to_timestamp\": 26335200000, \"anomaly_timestamp\": [26335200000], \"anomaly_code\": \"som\"}, {\"from_timestamp\": 27823800000, \"to_timestamp\": 27823800000, \"anomaly_timestamp\": [27823800000], \"anomaly_code\": \"som\"}, {\"from_timestamp\": 27989400000, \"to_timestamp\": 27989400000, \"anomaly_timestamp\": [27989400000], \"anomaly_code\": \"som\"}, {\"from_timestamp\": 27990000000, \"to_timestamp\": 27990000000, \"anomaly_timestamp\": [27990000000], \"anomaly_code\": \"som\"}, {\"from_timestamp\": 28123200000, \"to_timestamp\": 28123200000, \"anomaly_timestamp\": [28123200000], \"anomaly_code\": \"som\"}, {\"from_timestamp\": 28149000000, \"to_timestamp\": 28149000000, \"anomaly_timestamp\": [28149000000], \"anomaly_code\": \"som\"}, {\"from_timestamp\": 28150800000, \"to_timestamp\": 28150800000, \"anomaly_timestamp\": [28150800000], \"anomaly_code\": \"som\"}, {\"from_timestamp\": 29556600000, \"to_timestamp\": 29556600000, \"anomaly_timestamp\": [29556600000], \"anomaly_code\": \"som\"}, {\"from_timestamp\": 29695200000, \"to_timestamp\": 29695200000, \"anomaly_timestamp\": [29695200000], \"anomaly_code\": \"som\"}, {\"from_timestamp\": 31095600000, \"to_timestamp\": 31095600000, \"anomaly_timestamp\": [31095600000], \"anomaly_code\": \"som\"}, {\"from_timestamp\": 31101000000, \"to_timestamp\": 31101000000, \"anomaly_timestamp\": [31101000000], \"anomaly_code\": \"som\"}]}, {\"name\": \"7\", \"datapoints\": [{\"from_timestamp\": 19642800000, \"to_timestamp\": 19642800000, \"anomaly_timestamp\": [19642800000], \"anomaly_code\": \"som\"}, {\"from_timestamp\": 19757400000, \"to_timestamp\": 19757400000, \"anomaly_timestamp\": [19757400000], \"anomaly_code\": \"som\"}, {\"from_timestamp\": 19761600000, \"to_timestamp\": 19761600000, \"anomaly_timestamp\": [19761600000], \"anomaly_code\": \"som\"}, {\"from_timestamp\": 21348600000, \"to_timestamp\": 21348600000, \"anomaly_timestamp\": [21348600000], \"anomaly_code\": \"som\"}, {\"from_timestamp\": 21402600000, \"to_timestamp\": 21402600000, \"anomaly_timestamp\": [21402600000], \"anomaly_code\": \"som\"}, {\"from_timestamp\": 22130400000, \"to_timestamp\": 22130400000, \"anomaly_timestamp\": [22130400000], \"anomaly_code\": \"som\"}, {\"from_timestamp\": 22132800000, \"to_timestamp\": 22132800000, \"anomaly_timestamp\": [22132800000], \"anomaly_code\": \"som\"}, {\"from_timestamp\": 23038200000, \"to_timestamp\": 23038200000, \"anomaly_timestamp\": [23038200000], \"anomaly_code\": \"som\"}, {\"from_timestamp\": 23038800000, \"to_timestamp\": 23038800000, \"anomaly_timestamp\": [23038800000], \"anomaly_code\": \"som\"}, {\"from_timestamp\": 23040600000, \"to_timestamp\": 23040600000, \"anomaly_timestamp\": [23040600000], \"anomaly_code\": \"som\"}, {\"from_timestamp\": 23041800000, \"to_timestamp\": 23041800000, \"anomaly_timestamp\": [23041800000], \"anomaly_code\": \"som\"}, {\"from_timestamp\": 23042400000, \"to_timestamp\": 23042400000, \"anomaly_timestamp\": [23042400000], \"anomaly_code\": \"som\"}, {\"from_timestamp\": 23043000000, \"to_timestamp\": 23043000000, \"anomaly_timestamp\": [23043000000], \"anomaly_code\": \"som\"}, {\"from_timestamp\": 23043600000, \"to_timestamp\": 23043600000, \"anomaly_timestamp\": [23043600000], \"anomaly_code\": \"som\"}, {\"from_timestamp\": 23047200000, \"to_timestamp\": 23047200000, \"anomaly_timestamp\": [23047200000], \"anomaly_code\": \"som\"}, {\"from_timestamp\": 23065800000, \"to_timestamp\": 23065800000, \"anomaly_timestamp\": [23065800000], \"anomaly_code\": \"som\"}, {\"from_timestamp\": 23226000000, \"to_timestamp\": 23226000000, \"anomaly_timestamp\": [23226000000], \"anomaly_code\": \"som\"}, {\"from_timestamp\": 23228400000, \"to_timestamp\": 23228400000, \"anomaly_timestamp\": [23228400000], \"anomaly_code\": \"som\"}, {\"from_timestamp\": 26277000000, \"to_timestamp\": 26277000000, \"anomaly_timestamp\": [26277000000], \"anomaly_code\": \"som\"}, {\"from_timestamp\": 26277600000, \"to_timestamp\": 26277600000, \"anomaly_timestamp\": [26277600000], \"anomaly_code\": \"som\"}, {\"from_timestamp\": 26278200000, \"to_timestamp\": 26278200000, \"anomaly_timestamp\": [26278200000], \"anomaly_code\": \"som\"}, {\"from_timestamp\": 26278800000, \"to_timestamp\": 26278800000, \"anomaly_timestamp\": [26278800000], \"anomaly_code\": \"som\"}, {\"from_timestamp\": 26281800000, \"to_timestamp\": 26281800000, \"anomaly_timestamp\": [26281800000], \"anomaly_code\": \"som\"}, {\"from_timestamp\": 26285400000, \"to_timestamp\": 26285400000, \"anomaly_timestamp\": [26285400000], \"anomaly_code\": \"som\"}, {\"from_timestamp\": 26328000000, \"to_timestamp\": 26328000000, \"anomaly_timestamp\": [26328000000], \"anomaly_code\": \"som\"}, {\"from_timestamp\": 26332200000, \"to_timestamp\": 26332200000, \"anomaly_timestamp\": [26332200000], \"anomaly_code\": \"som\"}, {\"from_timestamp\": 26335200000, \"to_timestamp\": 26335200000, \"anomaly_timestamp\": [26335200000], \"anomaly_code\": \"som\"}, {\"from_timestamp\": 27823800000, \"to_timestamp\": 27823800000, \"anomaly_timestamp\": [27823800000], \"anomaly_code\": \"som\"}, {\"from_timestamp\": 27989400000, \"to_timestamp\": 27989400000, \"anomaly_timestamp\": [27989400000], \"anomaly_code\": \"som\"}, {\"from_timestamp\": 27990000000, \"to_timestamp\": 27990000000, \"anomaly_timestamp\": [27990000000], \"anomaly_code\": \"som\"}, {\"from_timestamp\": 28123200000, \"to_timestamp\": 28123200000, \"anomaly_timestamp\": [28123200000], \"anomaly_code\": \"som\"}, {\"from_timestamp\": 28149000000, \"to_timestamp\": 28149000000, \"anomaly_timestamp\": [28149000000], \"anomaly_code\": \"som\"}, {\"from_timestamp\": 28150800000, \"to_timestamp\": 28150800000, \"anomaly_timestamp\": [28150800000], \"anomaly_code\": \"som\"}, {\"from_timestamp\": 29556600000, \"to_timestamp\": 29556600000, \"anomaly_timestamp\": [29556600000], \"anomaly_code\": \"som\"}, {\"from_timestamp\": 29695200000, \"to_timestamp\": 29695200000, \"anomaly_timestamp\": [29695200000], \"anomaly_code\": \"som\"}, {\"from_timestamp\": 31095600000, \"to_timestamp\": 31095600000, \"anomaly_timestamp\": [31095600000], \"anomaly_code\": \"som\"}, {\"from_timestamp\": 31101000000, \"to_timestamp\": 31101000000, \"anomaly_timestamp\": [31101000000], \"anomaly_code\": \"som\"}]}]}]}, \"log_status\": {\"code\": \"441\", \"status\": \"Database error\", \"message\": \"could not connect to server: Connection refused\\n\\tIs the server running on host \\\"127.0.0.1\\\" and accepting\\n\\tTCP/IP connections on port 5432?\\n\"}}\n",
      "14.2 s ± 0 ns per loop (mean ± std. dev. of 1 run, 1 loop each)\n"
     ]
    }
   ],
   "source": [
    "%%timeit -n 1 -r 1\n",
    "\n",
    "training_args1['to_plot']=False\n",
    "training_args1['epochs']= 10\n",
    "training_args1['batch_size'] = 32\n",
    "train_res = json.loads(som_wrapper.train(**{**model_input_args1,**training_args1},json_data=json_data))\n",
    "\n",
    "eval_args1['anom_thres'] = 3\n",
    "eval_args1['model_path'] = train_res['models'][0][assetno[0]]\n",
    "eval_args1['to_plot']=False\n",
    "test_res = som_wrapper.evaluate(**eval_args1,json_data=json_data,mode=som_wrapper.mode_options[1])\n",
    "print(test_res)"
   ]
  },
  {
   "cell_type": "markdown",
   "metadata": {},
   "source": [
    "####  We observe that for running oddly $20000$ datapoints with $8$ metric name it takes around $14.7$ seconds to train and test with detect and log mode option on 20000 points with 8 metrics!."
   ]
  },
  {
   "cell_type": "markdown",
   "metadata": {},
   "source": [
    "# Conclusion:\n",
    "* Hence we observe that **Bayesian Changepoint Detection** works well only on level shifts or variational shift datasets over outlier or surge,sag datasets"
   ]
  }
 ],
 "metadata": {
  "kernelspec": {
   "display_name": "Python 3",
   "language": "python",
   "name": "python3"
  }
 },
 "nbformat": 4,
 "nbformat_minor": 2
}
