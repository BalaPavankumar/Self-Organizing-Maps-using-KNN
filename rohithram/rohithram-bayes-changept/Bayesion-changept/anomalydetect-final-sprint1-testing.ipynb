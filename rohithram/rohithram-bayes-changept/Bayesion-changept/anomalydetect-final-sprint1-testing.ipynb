{
 "cells": [
  {
   "cell_type": "markdown",
   "metadata": {},
   "source": [
    "# Bayesian Online Changepoint Detection\n",
    "* It is a probabilistic model to identify the level shifts(mean-shifts) or variational shifts in incoming dataset\n",
    "* It predicts posterior probability of run length(interval between to changepoints in dataset) so for a dataset of n-samples, there are n-possible run lengths.\n",
    "* The model calculates probability that all those possible run lengths for each datapoint to be changepoints so it creates $NxN$ matrix where $N$ is length of the dataset\n",
    "* So we set default threshold probability for it be a changepoint is $0.5$."
   ]
  },
  {
   "cell_type": "markdown",
   "metadata": {},
   "source": [
    "# Unit Testing Bayeschangepoint Detection"
   ]
  },
  {
   "cell_type": "code",
   "execution_count": 1,
   "metadata": {
    "collapsed": true
   },
   "outputs": [],
   "source": [
    "import writefile_run as writefile_run"
   ]
  },
  {
   "cell_type": "code",
   "execution_count": 2,
   "metadata": {
    "collapsed": true
   },
   "outputs": [],
   "source": [
    "% matplotlib inline\n",
    "%load_ext autoreload\n",
    "%autoreload 2"
   ]
  },
  {
   "cell_type": "code",
   "execution_count": 3,
   "metadata": {},
   "outputs": [
    {
     "name": "stderr",
     "output_type": "stream",
     "text": [
      "/home/rohithram/anaconda3/lib/python3.6/site-packages/psycopg2/__init__.py:144: UserWarning: The psycopg2 wheel package will be renamed from release 2.8; in order to keep installing from binary please use \"pip install psycopg2-binary\" instead. For details see: <http://initd.org/psycopg/docs/install.html#binary-install-from-pypi>.\n",
      "  \"\"\")\n"
     ]
    },
    {
     "name": "stdout",
     "output_type": "stream",
     "text": [
      "Use scipy logsumexp().\n"
     ]
    }
   ],
   "source": [
    "%%writefile_run unit_test_bayes_sprint1.py \n",
    "\n",
    "\n",
    "import bayeschangept_sprint1 as bayeschangept\n",
    "import warnings\n",
    "warnings.filterwarnings('ignore')"
   ]
  },
  {
   "cell_type": "code",
   "execution_count": 4,
   "metadata": {
    "collapsed": true
   },
   "outputs": [],
   "source": [
    "%%writefile_run unit_test_bayes_sprint1.py -a\n",
    "\n",
    "\n",
    "assetno = ['1']\n",
    "con = '52.173.76.89:4242'\n",
    "src_type =  'opentsdb'\n",
    "param = ['FE-001.DRIVEENERGY']\n",
    "from_timestamp = 1520402214\n",
    "to_timestamp = 1520407294"
   ]
  },
  {
   "cell_type": "code",
   "execution_count": 27,
   "metadata": {
    "collapsed": true
   },
   "outputs": [],
   "source": [
    "kwargs = lambda :{\n",
    "            'assetno':assetno,\n",
    "            'from_timestamp':from_timestamp,\n",
    "            'to_timestamp':to_timestamp,\n",
    "            'con':con,\n",
    "            'para_list':param,\n",
    "            'source_type':src_type,\n",
    "            'table_name':'',\n",
    "            'qry_str':'',\n",
    "            'impute_fill_method':'forward',\n",
    "            'down_sampling_method':None,\n",
    "            'down_sampling_window':None,\n",
    "            'freq':None,\n",
    "            'resample_fill_method':None,\n",
    "            'to_resample':None,\n",
    "            'to_impute':True,\n",
    "            'thres_prob':'',\n",
    "            'samples_to_wait':'',\n",
    "            'expected_run_length':''\n",
    "        }"
   ]
  },
  {
   "cell_type": "markdown",
   "metadata": {},
   "source": [
    "## Test 1 : \n",
    "* Testing with parameters being empty quotes"
   ]
  },
  {
   "cell_type": "code",
   "execution_count": 28,
   "metadata": {
    "scrolled": false
   },
   "outputs": [
    {
     "name": "stdout",
     "output_type": "stream",
     "text": [
      "{'code': '400', 'status': 'Bad Request', 'message': \"should be of type <class 'float'>\", 'data': {'argument': 'pthres', 'value': ''}}\n"
     ]
    }
   ],
   "source": [
    "%%writefile_run unit_test_bayes_sprint1.py -a\n",
    "\n",
    "\n",
    "res = bayeschangept.call(**kwargs())\n",
    "print(res)"
   ]
  },
  {
   "cell_type": "markdown",
   "metadata": {},
   "source": [
    "## Testing missing parameters : "
   ]
  },
  {
   "cell_type": "code",
   "execution_count": 30,
   "metadata": {},
   "outputs": [
    {
     "name": "stdout",
     "output_type": "stream",
     "text": [
      "Data reader initialised \n",
      "\n",
      "http://52.173.76.89:4242/api/query?start=1520402214&end=1520407294&ms=true&m=max:none:FE-001.DRIVEENERGY{AssetNo=1}\n",
      "Getting the dataset from the reader....\n",
      "\n",
      "{'code': '500', 'status': 'Unknown Exception', 'message': TypeError('string indices must be integers',)}\n"
     ]
    }
   ],
   "source": [
    "%%writefile_run unit_test_bayes_sprint1.py -a\n",
    "\n",
    "kwargs1 = kwargs()\n",
    "del kwargs1['thres_prob']\n",
    "del kwargs1['samples_to_wait']\n",
    "del kwargs1['expected_run_length']\n",
    "res = bayeschangept.call(**kwargs1)\n",
    "print(res)"
   ]
  },
  {
   "cell_type": "markdown",
   "metadata": {},
   "source": [
    "# Conclusion:\n",
    "* Hence we observe that **Bayesian Changepoint Detection** works well only on level shifts or variational shift datasets over outlier or surge,sag datasets"
   ]
  }
 ],
 "metadata": {
  "kernelspec": {
   "display_name": "Python 3",
   "language": "python",
   "name": "python3"
  },
  "language_info": {
   "codemirror_mode": {
    "name": "ipython",
    "version": 3
   },
   "file_extension": ".py",
   "mimetype": "text/x-python",
   "name": "python",
   "nbconvert_exporter": "python",
   "pygments_lexer": "ipython3",
   "version": "3.6.5"
  }
 },
 "nbformat": 4,
 "nbformat_minor": 2
}
