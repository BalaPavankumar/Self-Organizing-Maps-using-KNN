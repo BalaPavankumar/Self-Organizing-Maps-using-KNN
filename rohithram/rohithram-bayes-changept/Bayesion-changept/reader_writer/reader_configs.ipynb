{
 "cells": [
  {
   "cell_type": "code",
   "execution_count": 20,
   "metadata": {},
   "outputs": [],
   "source": [
    "import writefile_run as writefile_run"
   ]
  },
  {
   "cell_type": "code",
   "execution_count": 21,
   "metadata": {},
   "outputs": [],
   "source": [
    "%%writefile_run reader_configs.py\n",
    "\n",
    "assetno = ['1']\n",
    "opentsdb_url = '52.173.76.89:4242'\n",
    "src_type     =  'opentsdb'\n",
    "param = ['FE-001.DRIVEENERGY']"
   ]
  },
  {
   "cell_type": "code",
   "execution_count": 22,
   "metadata": {},
   "outputs": [],
   "source": [
    "%%writefile_run reader_configs.py -a\n",
    "\n",
    "reader_kwargs={\n",
    "    'assetno':'AssetNo={}'.format(','.join(assetno)),\n",
    "    'from_timestamp':1520402214,\n",
    "    'to_timestamp':1520407294,\n",
    "    'con':opentsdb_url,\n",
    "    'para_list':param,\n",
    "    'source_type':src_type,\n",
    "    'table_name':'',\n",
    "    'qry_str':'',\n",
    "    'impute_fill_method':0.5,\n",
    "    'down_sampling_method':'',\n",
    "    'down_sampling_window':'',\n",
    "    'freq':None,\n",
    "    'resample_fill_method':None,\n",
    "    'to_resample':None,\n",
    "    'to_impute':None\n",
    "}"
   ]
  }
 ],
 "metadata": {
  "kernelspec": {
   "display_name": "Python 3",
   "language": "python",
   "name": "python3"
  },
  "language_info": {
   "codemirror_mode": {
    "name": "ipython",
    "version": 3
   },
   "file_extension": ".py",
   "mimetype": "text/x-python",
   "name": "python",
   "nbconvert_exporter": "python",
   "pygments_lexer": "ipython3",
   "version": "3.6.4"
  }
 },
 "nbformat": 4,
 "nbformat_minor": 2
}
