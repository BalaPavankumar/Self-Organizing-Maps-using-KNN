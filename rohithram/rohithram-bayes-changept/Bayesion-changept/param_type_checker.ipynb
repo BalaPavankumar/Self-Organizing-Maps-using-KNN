{
 "cells": [
  {
   "cell_type": "code",
   "execution_count": 1,
   "metadata": {},
   "outputs": [],
   "source": [
    "import writefile_run"
   ]
  },
  {
   "cell_type": "code",
   "execution_count": 2,
   "metadata": {},
   "outputs": [],
   "source": [
    "%%writefile_run type_checker.py\n",
    " \n",
    "import numpy as np\n",
    "import error_codes as error_codes"
   ]
  },
  {
   "cell_type": "code",
   "execution_count": 3,
   "metadata": {},
   "outputs": [],
   "source": [
    "%%writefile_run type_checker.py -a\n",
    "\n",
    "\n",
    "class Type_checker():\n",
    "    \n",
    "    def __init__(self,kwargs,ideal_args_type):\n",
    "        self.ideal_args_type = ideal_args_type\n",
    "        self.kwargs = kwargs\n",
    "        \n",
    "    def params_checker(self):\n",
    "        error_codes.reset()\n",
    "        kwargs = self.kwargs\n",
    "        algo_params_type = self.ideal_args_type\n",
    "        for key in kwargs:\n",
    "            try:\n",
    "                if(key=='pthres'):\n",
    "                    if(type(kwargs[key])==int or type(kwargs['pthres'])==float):\n",
    "                        if(kwargs[key]<1 and kwargs['pthres']>0):\n",
    "                            continue\n",
    "                        else:\n",
    "                            error_codes.error_codes['param']['data']['argument']='pthres'\n",
    "                            error_codes.error_codes['param']['data']['value']=kwargs['pthres']\n",
    "                            error_codes.error_codes['param']['message']='probability must be between 0 and 1 and it must be of type int or float'\n",
    "                            return error_codes.error_codes['param']\n",
    "                        \n",
    "            except:\n",
    "                pass\n",
    "            \n",
    "            if(type(kwargs[key])!=(algo_params_type[key])):\n",
    "                error_codes.error_codes['param']['data']['argument']=key\n",
    "                error_codes.error_codes['param']['data']['value']=kwargs[key]\n",
    "                error_codes.error_codes['param']['message']='should be of type {}'.format((algo_params_type[key]))\n",
    "                return error_codes.error_codes['param']\n",
    "            \n",
    "            else:\n",
    "                continue"
   ]
  }
 ],
 "metadata": {
  "kernelspec": {
   "display_name": "Python 3",
   "language": "python",
   "name": "python3"
  },
  "language_info": {
   "codemirror_mode": {
    "name": "ipython",
    "version": 3
   },
   "file_extension": ".py",
   "mimetype": "text/x-python",
   "name": "python",
   "nbconvert_exporter": "python",
   "pygments_lexer": "ipython3",
   "version": "3.6.4"
  }
 },
 "nbformat": 4,
 "nbformat_minor": 2
}
