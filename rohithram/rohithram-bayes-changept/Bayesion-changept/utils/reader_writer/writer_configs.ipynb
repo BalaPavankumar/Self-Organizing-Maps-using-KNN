{
 "cells": [
  {
   "cell_type": "code",
   "execution_count": 1,
   "metadata": {},
   "outputs": [],
   "source": [
    "import writefile_run as writefile_run"
   ]
  },
  {
   "cell_type": "code",
   "execution_count": 2,
   "metadata": {},
   "outputs": [],
   "source": [
    "%%writefile_run writer_configs.py\n",
    "\n",
    "import pandas as pd\n",
    "import numpy as np\n",
    "import datetime"
   ]
  },
  {
   "cell_type": "code",
   "execution_count": 3,
   "metadata": {},
   "outputs": [],
   "source": [
    "%%writefile_run writer_configs.py -a\n",
    "\n",
    "db_name = \"Cerebra\"\n",
    "table_name = \"public.log_asset_timeline\"\n",
    "assetno = '1'\n",
    "name_of_algo = \"bayesian_change_point_detection\"\n",
    "anomaly_code = \"_bcp\"\n",
    "param = ['FE-001.DRIVEENERGY']\n",
    "metric_name  = str(param[0])\n",
    "event_name   = metric_name+anomaly_code+'_anomaly'\n",
    "event_context_info = []\n",
    "anom_time = ''\n",
    "anom_time_epoch = ''"
   ]
  },
  {
   "cell_type": "code",
   "execution_count": 4,
   "metadata": {},
   "outputs": [],
   "source": [
    "%%writefile_run writer_configs.py -a\n",
    "\n",
    "writer_kwargs = { \n",
    "                  'operating_unit_serial_number':assetno,\n",
    "                  'event_type':'Symptom',\n",
    "                  'event_sub_type':'Anomaly',\n",
    "                  'event_source':name_of_algo,\n",
    "                  'event_name':event_name,\n",
    "                  'event_context_info':event_context_info,\n",
    "                  'event_state':'TRUE',\n",
    "                  'parameter_list':'[{}]'.format(metric_name),\n",
    "                  'event_timestamp':anom_time,\n",
    "                  'event_timestamp_epoch':anom_time_epoch,\n",
    "                  'created_date':str(pd.to_datetime(datetime.datetime.now(),utc=True)),\n",
    "                  'event_occurence_flag':1}"
   ]
  }
 ],
 "metadata": {
  "kernelspec": {
   "display_name": "Python 3",
   "language": "python",
   "name": "python3"
  },
  "language_info": {
   "codemirror_mode": {
    "name": "ipython",
    "version": 3
   },
   "file_extension": ".py",
   "mimetype": "text/x-python",
   "name": "python",
   "nbconvert_exporter": "python",
   "pygments_lexer": "ipython3",
   "version": "3.6.4"
  }
 },
 "nbformat": 4,
 "nbformat_minor": 2
}
