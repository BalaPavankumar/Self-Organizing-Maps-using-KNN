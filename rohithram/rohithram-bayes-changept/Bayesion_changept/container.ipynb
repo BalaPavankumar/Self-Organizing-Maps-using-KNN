{
 "cells": [
  {
   "cell_type": "code",
   "execution_count": null,
   "metadata": {
    "collapsed": true
   },
   "outputs": [],
   "source": [
    "class Container():\n",
    "    '''\n",
    "    Container is the wrapper class of all sub modules in the process of detecting anomalies\n",
    "    So it takes in reader, preprocessors, algorithm specific anomaly detector and writer as arguments\n",
    "    '''\n",
    "    \n",
    "    def __init__(self,reader,preprocessors,anomaly_detector,writer):\n",
    "        '''\n",
    "        reader : object of Data-reader class\n",
    "        preprocessors : list of preprocessors functions which need to done on data\n",
    "        anomaly_detector: object of anomaly_detector class\n",
    "        writer : object of writer class\n",
    "        '''\n",
    "        self.reader = reader\n",
    "        self.preprocessors = preprocessors\n",
    "        self.anomaly_detector = anomaly_detector\n",
    "        self.writer = writer\n",
    "    \n",
    "    def wrapper(self):\n",
    "        #reading data from reader\n",
    "        data = self.reader.read()\n",
    "        #preprocessing the data\n",
    "        for preprocess in preprocessors:\n",
    "            data = preprocess(data)\n",
    "        #detecting anomalies\n",
    "        anomaly_detector.detect_anomalies()\n",
    "        \n",
    "        \n",
    "        "
   ]
  }
 ],
 "metadata": {
  "kernelspec": {
   "display_name": "Python 3",
   "language": "python",
   "name": "python3"
  },
  "language_info": {
   "codemirror_mode": {
    "name": "ipython",
    "version": 3
   },
   "file_extension": ".py",
   "mimetype": "text/x-python",
   "name": "python",
   "nbconvert_exporter": "python",
   "pygments_lexer": "ipython3",
   "version": "3.6.5"
  }
 },
 "nbformat": 4,
 "nbformat_minor": 2
}
