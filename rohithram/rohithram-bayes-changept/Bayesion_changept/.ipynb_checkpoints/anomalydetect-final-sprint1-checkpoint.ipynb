{
 "cells": [
  {
   "cell_type": "markdown",
   "metadata": {},
   "source": [
    "# Bayesian Online Changepoint Detection\n",
    "* It is a probabilistic model to identify the level shifts(mean-shifts) or variational shifts in incoming dataset\n",
    "* It predicts posterior probability of run length(interval between to changepoints in dataset) so for a dataset of n-samples, there are n-possible run lengths.\n",
    "* The model calculates probability that all those possible run lengths for each datapoint to be changepoints so it creates $NxN$ matrix where $N$ is length of the dataset\n",
    "* So we set default threshold probability for it be a changepoint is $0.5$."
   ]
  },
  {
   "cell_type": "markdown",
   "metadata": {},
   "source": [
    "## Required Arguments to run the program:\n",
    "\n",
    "* All of the algorithm related parameters are optional which has a default value given in the program itself.\n",
    "* Description for each argument is given below :\n",
    "\n",
    "* algo_kwargs={\n",
    "            'is_train':Takes Boolean argument true or false, true for model which requires training,\n",
    "            'data_col_index':1  -> column index from which metrics to be considered for anomaly detection ,\n",
    "            'pthres':thres_prob -> probability after which a point is considered as changepoint,\n",
    "            'Nw':samples_to_wait -> samples to wait before detecting changepoints,\n",
    "            'mean_runlen':expected_run_length -> average run length between two change points in dataset\n",
    "        }\n",
    "        \n",
    "* So the default value given are as follows:\n",
    "     * algo_kwargs={\n",
    "            'is_train':False,\n",
    "            'data_col_index':1,\n",
    "            'pthres':0.5,\n",
    "            'Nw':10,\n",
    "            'mean_runlen':100\n",
    "        }"
   ]
  },
  {
   "cell_type": "markdown",
   "metadata": {},
   "source": [
    "## Dependencies :\n",
    "* Download https://github.com/hildensia/bayesian_changepoint_detection this and run **python setup.py install** to install the bayesian changepoint detection module.\n",
    "* Install **psycopg2** module using pip to connect to postgresql db\n",
    "* Install **writefile_run** using pip , which is used to save the cell in a python file automatically"
   ]
  },
  {
   "cell_type": "code",
   "execution_count": 1,
   "metadata": {
    "collapsed": true
   },
   "outputs": [],
   "source": [
    "import writefile_run as writefile_run"
   ]
  },
  {
   "cell_type": "code",
   "execution_count": 2,
   "metadata": {},
   "outputs": [
    {
     "name": "stderr",
     "output_type": "stream",
     "text": [
      "/home/rohithram/anaconda3/lib/python3.6/site-packages/psycopg2/__init__.py:144: UserWarning: The psycopg2 wheel package will be renamed from release 2.8; in order to keep installing from binary please use \"pip install psycopg2-binary\" instead. For details see: <http://initd.org/psycopg/docs/install.html#binary-install-from-pypi>.\n",
      "  \"\"\")\n"
     ]
    },
    {
     "name": "stdout",
     "output_type": "stream",
     "text": [
      "Use scipy logsumexp().\n"
     ]
    }
   ],
   "source": [
    "%%writefile_run bayeschangept_sprint1.py\n",
    "\n",
    "'''\n",
    "importing all the required header files\n",
    "'''\n",
    "\n",
    "import numpy as np\n",
    "import pandas as pd\n",
    "import matplotlib.pyplot as plt\n",
    "from matplotlib.pylab import rcParams\n",
    "import datetime as dt\n",
    "import time\n",
    "import os\n",
    "\n",
    "# Importing reader and checker python files as modules\n",
    "import db_properties as db_props\n",
    "import writer_configs as write_args\n",
    "import psycopg2\n",
    "\n",
    "from preprocessors import *\n",
    "from data_handler import *\n",
    "from bayesian_changept_detector import *\n",
    "\n",
    "import error_codes as error_codes\n",
    "import type_checker as type_checker\n",
    "import json\n",
    "import traceback\n",
    "import warnings\n",
    "warnings.filterwarnings('ignore')\n",
    "\n",
    "rcParams['figure.figsize'] = 12, 9\n",
    "rcParams[ 'axes.grid']=True"
   ]
  },
  {
   "cell_type": "code",
   "execution_count": 3,
   "metadata": {},
   "outputs": [],
   "source": [
    "% matplotlib inline\n",
    "%load_ext autoreload\n",
    "%autoreload 2"
   ]
  },
  {
   "cell_type": "code",
   "execution_count": 4,
   "metadata": {
    "collapsed": true
   },
   "outputs": [],
   "source": [
    "%%writefile_run bayeschangept_sprint1.py -a\n",
    "\n",
    "'''\n",
    "ideal argument types for algorithm\n",
    "'''\n",
    "algo_params_type ={\n",
    "            'is_train':bool,\n",
    "            'data_col_index':int,\n",
    "            'pthres':float or int,\n",
    "            'Nw':int,\n",
    "            'mean_runlen':int\n",
    "        }"
   ]
  },
  {
   "cell_type": "code",
   "execution_count": 5,
   "metadata": {
    "collapsed": true
   },
   "outputs": [],
   "source": [
    "%%writefile_run bayeschangept_sprint1.py -a\n",
    "\n",
    "\n",
    "def call(assetno,from_timestamp,to_timestamp,con,para_list,source_type='opentsdb',table_name='',\n",
    "        qry_str='',impute_fill_method='forward',down_sampling_method=None,down_sampling_window=None,freq=None,\n",
    "        resample_fill_method=None,to_resample=None,to_impute=None,thres_prob=0.5,samples_to_wait=10,expected_run_length=100):\n",
    "\n",
    "        '''\n",
    "        Wrapper function which should be called inorder to run the anomaly detection, it has four parts :\n",
    "        *reader           - Class Data_reader defined in data_handler.py which takes in reader args and parses json \n",
    "                            and gives dataframes\n",
    "        *preprocessor     - preprocessors are defined in preprocessors.py, which takes in data and gives out processed \n",
    "                            data\n",
    "        *anomaly detector - Class Bayesian_Changept_Detector defined in bayesian_changept_detector.py, which takes in\n",
    "                            data and algorithm parameters as argument and returns anomaly indexes and data.        \n",
    "        *writer           - Class Postgres_Writer defined in data_handler.py which takes in anomaly detector object and\n",
    "                            and sql_queries , db_properties and table name as args and gives out response code.\n",
    "        \n",
    "        Arguments :\n",
    "        It takes reader args as of now to get the dataset and algo related arguments\n",
    "        Note:\n",
    "        To run this, import this python file as module and call this function with required args and it will detect\n",
    "        anomalies and writes to the local database.\n",
    "        This algorithm is univariate, so each metric per asset is processed individually\n",
    "        '''\n",
    "        \n",
    "        #reader arguments\n",
    "        reader_kwargs={\n",
    "            'assetno':assetno,\n",
    "            'from_timestamp':from_timestamp,\n",
    "            'to_timestamp':to_timestamp,\n",
    "            'con':con,\n",
    "            'para_list':para_list,\n",
    "            'source_type':source_type,\n",
    "            'table_name':table_name,\n",
    "            'qry_str':qry_str,\n",
    "            'impute_fill_method':impute_fill_method,\n",
    "            'down_sampling_method':down_sampling_method,\n",
    "            'down_sampling_window':down_sampling_window,\n",
    "            'freq':freq,\n",
    "            'resample_fill_method':resample_fill_method,\n",
    "            'to_resample':to_resample,\n",
    "            'to_impute':to_impute\n",
    "        }\n",
    "\n",
    "        #algorithm arguments\n",
    "        algo_kwargs={\n",
    "            'is_train':False,\n",
    "            'data_col_index':1,\n",
    "            'pthres':thres_prob,\n",
    "            'Nw':samples_to_wait,\n",
    "            'mean_runlen':expected_run_length\n",
    "        }\n",
    "                    \n",
    "        try: \n",
    "            '''\n",
    "            #reseting the error_codes to avoid overwritting\n",
    "            #error_codes is a python file imported as error_codes which has error_codes dictionary mapping \n",
    "            #for different kinds errors and reset function to reset them.\n",
    "            '''\n",
    "            \n",
    "            error_codes.reset()\n",
    "            # type_checker is python file which has Type_checker class which checks given parameter types\n",
    "            checker = type_checker.Type_checker(kwargs=algo_kwargs,ideal_args_type=algo_params_type)\n",
    "            # res is None when no error raised, otherwise it stores the appropriate error message\n",
    "            res = checker.params_checker()\n",
    "            if(res!=None):\n",
    "                return res\n",
    "            \n",
    "            # instanstiating the reader class with reader arguments\n",
    "            data_reader = Data_reader(reader_kwargs=reader_kwargs)\n",
    "            #getting list of dataframes per asset if not empty\n",
    "            #otherwise gives string 'Empty Dataframe'\n",
    "            entire_data = data_reader.read()\n",
    "            \n",
    "            writer_data = []\n",
    "            anomaly_detectors = []\n",
    "            if((len(entire_data)!=0 and entire_data!=None and type(entire_data)!=dict)):\n",
    "\n",
    "                '''\n",
    "                looping over the data per assets and inside that looping over metrics per asset\n",
    "                * Instantiates anomaly detector class with algo args and metric index to detect on\n",
    "                * Stores the anomaly indexes and anomaly detector object to bulk write to db at once\n",
    "                '''\n",
    "\n",
    "                for i,data_per_asset in enumerate(entire_data):\n",
    "                    assetno = reader_kwargs['assetno'][i]\n",
    "                    data_per_asset[data_per_asset.columns[1:]] = normalise_standardise(data_per_asset[data_per_asset.columns[1:]])\n",
    "\n",
    "                    for data_col in range(1,len(data_per_asset.columns[1:])+1):\n",
    "                        algo_kwargs['data_col_index'] = data_col\n",
    "                        print(\"\\nAnomaly detection for AssetNo : {} , Metric : {}\\n \".format(assetno,data_per_asset.columns[data_col]))\n",
    "                        anomaly_detector = Bayesian_Changept_Detector(data_per_asset,assetno=assetno,**algo_kwargs)\n",
    "                        data,anom_indexes = anomaly_detector.detect_anomalies()\n",
    "\n",
    "                        sql_query_args = write_args.writer_kwargs\n",
    "                        table_name = write_args.table_name\n",
    "                        window_size = 10\n",
    "\n",
    "                        anomaly_detectors.append(anomaly_detector)\n",
    "\n",
    "                '''\n",
    "                Instantiates writer class to write into local database with arguments given below\n",
    "                Used for Bulk writing\n",
    "                '''\n",
    "                writer = Postgres_Writer(anomaly_detectors,db_credentials=db_props.db_connection,sql_query_args=sql_query_args,\n",
    "                                        table_name=table_name,window_size=window_size)\n",
    "\n",
    "                #called for mapping args before writing into db\n",
    "                res = writer.map_outputs_and_write()\n",
    "                return res\n",
    "            else:\n",
    "                '''\n",
    "                Data empty error\n",
    "                '''\n",
    "                return error_codes.error_codes['data_missing']\n",
    "        except Exception as e:\n",
    "            '''\n",
    "            unknown exceptions are caught here and traceback used to know the source of the error\n",
    "            '''\n",
    "            traceback.print_exc()\n",
    "            error_codes.error_codes['unknown']['message']=e\n",
    "            return error_codes.error_codes['unknown']"
   ]
  },
  {
   "cell_type": "code",
   "execution_count": 6,
   "metadata": {
    "collapsed": true
   },
   "outputs": [],
   "source": [
    "# %%writefile_run bayeschangept_sprint1.py -a\n",
    "\n",
    "'''\n",
    "Arguments for reader module to get data from opentsdb\n",
    "This is included for now just for testing, later the main function will take json as direct input\n",
    "'''\n",
    "\n",
    "assetno = ['1']\n",
    "con = '52.173.76.89:4242'\n",
    "src_type =  'opentsdb'\n",
    "param = ['FE-001.DRIVEENERGY']\n",
    "from_timestamp = 1520402214\n",
    "to_timestamp = 1520407294"
   ]
  },
  {
   "cell_type": "code",
   "execution_count": 7,
   "metadata": {
    "scrolled": false
   },
   "outputs": [
    {
     "name": "stdout",
     "output_type": "stream",
     "text": [
      "Data reader initialised \n",
      "\n",
      "{'code': '404', 'status': 'Not Found', 'message': \"(<class 'KeyboardInterrupt'>, KeyboardInterrupt(), <traceback object at 0x7f01fde09b08>)\"}\n"
     ]
    }
   ],
   "source": [
    "# %%writefile_run bayeschangept_sprint1.py -a\n",
    "\n",
    "'''\n",
    "Dictionary of arguments given to wrapper function which executes this whole program for detecting changepoints and writing\n",
    "to database\n",
    "'''\n",
    "kwargs = {\n",
    "            'assetno':assetno,\n",
    "            'from_timestamp':from_timestamp,\n",
    "            'to_timestamp':to_timestamp,\n",
    "            'con':con,\n",
    "            'para_list':param,\n",
    "            'source_type':src_type,\n",
    "            'table_name':'',\n",
    "            'qry_str':'',\n",
    "            'impute_fill_method':'forward',\n",
    "            'down_sampling_method':None,\n",
    "            'down_sampling_window':None,\n",
    "            'freq':None,\n",
    "            'resample_fill_method':None,\n",
    "            'to_resample':None,\n",
    "            'to_impute':True,\n",
    "            'thres_prob':0.5,\n",
    "            'samples_to_wait':10,\n",
    "            'expected_run_length':100\n",
    "        }\n",
    "\n",
    "   \n",
    "res = call(**kwargs)\n",
    "print(res)"
   ]
  },
  {
   "cell_type": "markdown",
   "metadata": {},
   "source": [
    "## Testing the algo on sample csv datasets"
   ]
  },
  {
   "cell_type": "code",
   "execution_count": 8,
   "metadata": {
    "collapsed": true
   },
   "outputs": [],
   "source": [
    "kwargs = lambda :{\n",
    "            'assetno':assetno,\n",
    "            'from_timestamp':from_timestamp,\n",
    "            'to_timestamp':to_timestamp,\n",
    "            'con':con,\n",
    "            'para_list':param,\n",
    "            'source_type':src_type,\n",
    "            'table_name':'',\n",
    "            'qry_str':'',\n",
    "            'impute_fill_method':'forward',\n",
    "            'down_sampling_method':None,\n",
    "            'down_sampling_window':None,\n",
    "            'freq':None,\n",
    "            'resample_fill_method':None,\n",
    "            'to_resample':None,\n",
    "            'to_impute':True,\n",
    "            'thres_prob':0.5,\n",
    "            'samples_to_wait':10,\n",
    "            'expected_run_length':100\n",
    "        }"
   ]
  },
  {
   "cell_type": "code",
   "execution_count": 9,
   "metadata": {
    "collapsed": true
   },
   "outputs": [],
   "source": [
    "def preparecsvtoread(filepath,filename,target_dir,assetno='1',n_rows=None,has_time=True):\n",
    "    \n",
    "    '''\n",
    "    function to prepare the csv file such that it can fed to reader api to fetch the data\n",
    "    Arguments : filepath : full filepath required in quotes\n",
    "                filename : just filename in quotes\n",
    "                target_dir: name of directory where you want the processed csv file to store\n",
    "                assetno: assetno in quotes\n",
    "                n_rows:to truncate the large datasets (to read first n rows of csv file)\n",
    "                has_time: bool type which tells whether time column is present in the input csv file\n",
    "    '''\n",
    "    \n",
    "    if(n_rows is not None):\n",
    "        df  = pd.read_csv(filepath,nrows=n_rows)\n",
    "    else:\n",
    "        df = pd.read_csv(filepath)\n",
    "    df['assetno'] = assetno\n",
    "    if(has_time!=True):\n",
    "        start = pd.Timestamp(\"19700807 08:30-0400\")\n",
    "        end = pd.Timestamp(\"20170807 17:30-0400\")\n",
    "        index = pd.DatetimeIndex(start=start, end=end, freq=\"10min\")[:n_rows]\n",
    "        df.insert(0,'timestamp', index) \n",
    "        df = df.dropna(axis=1, how='all')\n",
    "        print(df.head())\n",
    "    else:\n",
    "        df = df.rename(columns={df.columns[0]:'timestamp'})\n",
    "    df['timestamp'] = (pd.to_datetime(df['timestamp'],infer_datetime_format=True).astype(np.int64)/(1e6)).astype(np.int64)\n",
    "    metric_names = df.columns[1:-1]\n",
    "    target_filepath = os.path.join(target_dir,filename)\n",
    "    df.to_csv(target_filepath,index=False)\n",
    "    return target_filepath,list(metric_names)"
   ]
  },
  {
   "cell_type": "code",
   "execution_count": 10,
   "metadata": {
    "collapsed": true
   },
   "outputs": [],
   "source": [
    "def get_csv_kwargs(infile='./dataset/sample_csv_files/alcohol-demand-log-spirits-consu.csv',\n",
    "                  filename='alcohol-demand-log-spirits-consu.csv',\n",
    "                  target_dir='dataset/reader_csv_files/',assetno = ['1'],n_rows=None,has_time=True,pthres=0.5):\n",
    "    kwargs1 = kwargs()\n",
    "    \n",
    "    con,param = preparecsvtoread(filepath=infile,filename=filename,target_dir=target_dir,assetno=assetno[0],\n",
    "                                 n_rows=n_rows,has_time=has_time)\n",
    "    \n",
    "    kwargs1['con'] = con\n",
    "    kwargs1['source_type'] = 'csv'\n",
    "    kwargs1['from_timestamp']=-int(2**63)\n",
    "    kwargs1['to_timestamp']=int(2**63)\n",
    "    kwargs1['para_list'] = param\n",
    "    kwargs1['thres_prob'] = pthres\n",
    "    \n",
    "    return kwargs1"
   ]
  },
  {
   "cell_type": "code",
   "execution_count": 11,
   "metadata": {
    "scrolled": false
   },
   "outputs": [
    {
     "name": "stdout",
     "output_type": "stream",
     "text": [
      "\n",
      "Detecting anomalies for methane-input-into-gas-furnace-c.csv\n",
      "\n",
      "Data reader initialised \n",
      "\n",
      "Getting the dataset from the reader....\n",
      "\n",
      "Asset no : 1 \n",
      "               assetno   CO2  Methane\n",
      "timestamp                           \n",
      "7.808400e+12      1.0  53.8    0.109\n",
      "7.808940e+12      1.0  53.6    0.000\n",
      "7.809480e+12      1.0  53.5    0.178\n",
      "7.810020e+12      1.0  53.5    0.339\n",
      "7.810560e+12      1.0  53.4    0.373 \n",
      "\n",
      "\n",
      "Anomaly detection for AssetNo : 1 , Metric : CO2\n",
      " \n",
      "Shape of the dataset : \n",
      "(296, 3)\n",
      "Overview of first five rows of dataset : \n"
     ]
    },
    {
     "name": "stderr",
     "output_type": "stream",
     "text": [
      "Traceback (most recent call last):\n",
      "  File \"<ipython-input-5-12e3654de12c>\", line 93, in call\n",
      "    data,anom_indexes = anomaly_detector.detect_anomalies()\n",
      "  File \"/home/rohithram/Desktop/internship/sprint1/tsfad/rohithram/rohithram-bayes-changept/Bayesion_changept/bayesian_changept_detector.py\", line 62, in detect_anomalies\n",
      "    anom_indexes = self.plotonchangepoints(R,maxes)\n",
      "  File \"/home/rohithram/Desktop/internship/sprint1/tsfad/rohithram/rohithram-bayes-changept/Bayesion_changept/bayesian_changept_detector.py\", line 98, in plotonchangepoints\n",
      "    fig,(ax1,ax3) = plt.subplots(3,figsize=[18, 16])\n",
      "ValueError: too many values to unpack (expected 2)\n",
      "Traceback (most recent call last):\n",
      "  File \"<ipython-input-5-12e3654de12c>\", line 73, in call\n",
      "    entire_data = data_reader.read()\n",
      "  File \"/home/rohithram/Desktop/internship/sprint1/tsfad/rohithram/rohithram-bayes-changept/Bayesion_changept/data_handler.py\", line 227, in read\n",
      "    entire_data = self.parse_dict_to_dataframe(response_dict)\n",
      "  File \"/home/rohithram/Desktop/internship/sprint1/tsfad/rohithram/rohithram-bayes-changept/Bayesion_changept/data_handler.py\", line 258, in parse_dict_to_dataframe\n",
      "    dataframe = dataframe.T.drop_duplicates().T\n",
      "  File \"/home/rohithram/anaconda3/lib/python3.6/site-packages/pandas/core/frame.py\", line 3098, in drop_duplicates\n",
      "    duplicated = self.duplicated(subset, keep=keep)\n",
      "  File \"/home/rohithram/anaconda3/lib/python3.6/site-packages/pandas/core/frame.py\", line 3144, in duplicated\n",
      "    labels, shape = map(list, zip(*map(f, vals)))\n",
      "  File \"/home/rohithram/anaconda3/lib/python3.6/site-packages/pandas/core/frame.py\", line 3133, in f\n",
      "    vals, size_hint=min(len(self), _SIZE_HINT_LIMIT))\n",
      "  File \"/home/rohithram/anaconda3/lib/python3.6/site-packages/pandas/core/algorithms.py\", line 560, in factorize\n",
      "    labels = table.get_labels(values, uniques, 0, na_sentinel, check_nulls)\n",
      "  File \"pandas/_libs/hashtable_class_helper.pxi\", line 407, in pandas._libs.hashtable.Float64HashTable.get_labels\n",
      "ValueError: Buffer has wrong number of dimensions (expected 1, got 2)\n"
     ]
    },
    {
     "name": "stdout",
     "output_type": "stream",
     "text": [
      "{'code': '500', 'status': 'Unknown Exception', 'message': ValueError('too many values to unpack (expected 2)',)}\n",
      "\n",
      "Detecting anomalies for average-annual-temperature-centr.csv\n",
      "\n",
      "Data reader initialised \n",
      "\n",
      "Getting the dataset from the reader....\n",
      "\n",
      "{'code': '500', 'status': 'Unknown Exception', 'message': ValueError('Buffer has wrong number of dimensions (expected 1, got 2)',)}\n",
      "\n",
      "Detecting anomalies for mean-monthly-temperature-1907-19.csv\n",
      "\n",
      "Data reader initialised \n",
      "\n",
      "Getting the dataset from the reader....\n",
      "\n",
      "Asset no : 1 \n",
      "                assetno  Mean monthly temperature, 1907 ? 1972\n",
      "timestamp                                                    \n",
      "-1.988150e+12      1.0                                   33.3\n",
      "-1.985472e+12      1.0                                   46.0\n",
      "-1.983053e+12      1.0                                   43.0\n",
      "-1.980374e+12      1.0                                   55.0\n",
      "-1.977782e+12      1.0                                   51.8 \n",
      "\n",
      "\n",
      "Anomaly detection for AssetNo : 1 , Metric : Mean monthly temperature, 1907 ? 1972\n",
      " \n",
      "Shape of the dataset : \n",
      "(792, 2)\n",
      "Overview of first five rows of dataset : \n"
     ]
    },
    {
     "name": "stderr",
     "output_type": "stream",
     "text": [
      "Traceback (most recent call last):\n",
      "  File \"<ipython-input-5-12e3654de12c>\", line 93, in call\n",
      "    data,anom_indexes = anomaly_detector.detect_anomalies()\n",
      "  File \"/home/rohithram/Desktop/internship/sprint1/tsfad/rohithram/rohithram-bayes-changept/Bayesion_changept/bayesian_changept_detector.py\", line 62, in detect_anomalies\n",
      "    anom_indexes = self.plotonchangepoints(R,maxes)\n",
      "  File \"/home/rohithram/Desktop/internship/sprint1/tsfad/rohithram/rohithram-bayes-changept/Bayesion_changept/bayesian_changept_detector.py\", line 98, in plotonchangepoints\n",
      "    fig,(ax1,ax3) = plt.subplots(3,figsize=[18, 16])\n",
      "ValueError: too many values to unpack (expected 2)\n"
     ]
    },
    {
     "name": "stdout",
     "output_type": "stream",
     "text": [
      "{'code': '500', 'status': 'Unknown Exception', 'message': ValueError('too many values to unpack (expected 2)',)}\n",
      "\n",
      "Detecting anomalies for monthly-us-female-20-years-and-o.csv\n",
      "\n",
      "Data reader initialised \n",
      "\n",
      "Getting the dataset from the reader....\n",
      "\n",
      "Asset no : 1 \n",
      "                assetno  \\\n",
      "timestamp                \n",
      "-6.943104e+11      1.0   \n",
      "-6.916320e+11      1.0   \n",
      "-6.891264e+11      1.0   \n",
      "-6.864480e+11      1.0   \n",
      "-6.838560e+11      1.0   \n",
      "\n",
      "               Monthly U.S. female (20 years and over) unemployment figures (10**3) 1948-1981  \n",
      "timestamp                                                                                      \n",
      "-6.943104e+11                                              446.0                               \n",
      "-6.916320e+11                                              650.0                               \n",
      "-6.891264e+11                                              592.0                               \n",
      "-6.864480e+11                                              561.0                               \n",
      "-6.838560e+11                                              491.0                                \n",
      "\n",
      "\n",
      "Anomaly detection for AssetNo : 1 , Metric : Monthly U.S. female (20 years and over) unemployment figures (10**3) 1948-1981\n",
      " \n",
      "Shape of the dataset : \n",
      "(408, 2)\n",
      "Overview of first five rows of dataset : \n"
     ]
    },
    {
     "name": "stderr",
     "output_type": "stream",
     "text": [
      "Traceback (most recent call last):\n",
      "  File \"<ipython-input-5-12e3654de12c>\", line 93, in call\n",
      "    data,anom_indexes = anomaly_detector.detect_anomalies()\n",
      "  File \"/home/rohithram/Desktop/internship/sprint1/tsfad/rohithram/rohithram-bayes-changept/Bayesion_changept/bayesian_changept_detector.py\", line 62, in detect_anomalies\n",
      "    anom_indexes = self.plotonchangepoints(R,maxes)\n",
      "  File \"/home/rohithram/Desktop/internship/sprint1/tsfad/rohithram/rohithram-bayes-changept/Bayesion_changept/bayesian_changept_detector.py\", line 98, in plotonchangepoints\n",
      "    fig,(ax1,ax3) = plt.subplots(3,figsize=[18, 16])\n",
      "ValueError: too many values to unpack (expected 2)\n",
      "Traceback (most recent call last):\n",
      "  File \"<ipython-input-5-12e3654de12c>\", line 73, in call\n",
      "    entire_data = data_reader.read()\n",
      "  File \"/home/rohithram/Desktop/internship/sprint1/tsfad/rohithram/rohithram-bayes-changept/Bayesion_changept/data_handler.py\", line 227, in read\n",
      "    entire_data = self.parse_dict_to_dataframe(response_dict)\n",
      "  File \"/home/rohithram/Desktop/internship/sprint1/tsfad/rohithram/rohithram-bayes-changept/Bayesion_changept/data_handler.py\", line 258, in parse_dict_to_dataframe\n",
      "    dataframe = dataframe.T.drop_duplicates().T\n",
      "  File \"/home/rohithram/anaconda3/lib/python3.6/site-packages/pandas/core/frame.py\", line 3098, in drop_duplicates\n",
      "    duplicated = self.duplicated(subset, keep=keep)\n",
      "  File \"/home/rohithram/anaconda3/lib/python3.6/site-packages/pandas/core/frame.py\", line 3144, in duplicated\n",
      "    labels, shape = map(list, zip(*map(f, vals)))\n",
      "  File \"/home/rohithram/anaconda3/lib/python3.6/site-packages/pandas/core/frame.py\", line 3133, in f\n",
      "    vals, size_hint=min(len(self), _SIZE_HINT_LIMIT))\n",
      "  File \"/home/rohithram/anaconda3/lib/python3.6/site-packages/pandas/core/algorithms.py\", line 560, in factorize\n",
      "    labels = table.get_labels(values, uniques, 0, na_sentinel, check_nulls)\n",
      "  File \"pandas/_libs/hashtable_class_helper.pxi\", line 407, in pandas._libs.hashtable.Float64HashTable.get_labels\n",
      "ValueError: Buffer has wrong number of dimensions (expected 1, got 2)\n"
     ]
    },
    {
     "name": "stdout",
     "output_type": "stream",
     "text": [
      "{'code': '500', 'status': 'Unknown Exception', 'message': ValueError('too many values to unpack (expected 2)',)}\n",
      "\n",
      "Detecting anomalies for winter-negative-temperature-sum-.csv\n",
      "\n",
      "Data reader initialised \n",
      "\n",
      "Getting the dataset from the reader....\n",
      "\n",
      "{'code': '500', 'status': 'Unknown Exception', 'message': ValueError('Buffer has wrong number of dimensions (expected 1, got 2)',)}\n",
      "\n",
      "Detecting anomalies for alcohol-demand-log-spirits-consu.csv\n",
      "\n",
      "Data reader initialised \n",
      "\n",
      "Getting the dataset from the reader....\n",
      "\n",
      "Asset no : 1 \n",
      "                assetno  \\\n",
      "timestamp                \n",
      "-3.147898e+12      1.0   \n",
      "-3.137357e+12      1.0   \n",
      "-3.126816e+12      1.0   \n",
      "-3.116362e+12      1.0   \n",
      "-3.105821e+12      1.0   \n",
      "\n",
      "               Alcohol demand (log spirits consumption per head), UK, 1870-1938  \n",
      "timestamp                                                                        \n",
      "-3.147898e+12                                              1.957                 \n",
      "-3.137357e+12                                              1.979                 \n",
      "-3.126816e+12                                              2.012                 \n",
      "-3.116362e+12                                              2.045                 \n",
      "-3.105821e+12                                              2.056                  \n",
      "\n",
      "\n",
      "Anomaly detection for AssetNo : 1 , Metric : Alcohol demand (log spirits consumption per head), UK, 1870-1938\n",
      " \n",
      "Shape of the dataset : \n",
      "(207, 2)\n",
      "Overview of first five rows of dataset : \n"
     ]
    },
    {
     "name": "stderr",
     "output_type": "stream",
     "text": [
      "Traceback (most recent call last):\n",
      "  File \"<ipython-input-5-12e3654de12c>\", line 93, in call\n",
      "    data,anom_indexes = anomaly_detector.detect_anomalies()\n",
      "  File \"/home/rohithram/Desktop/internship/sprint1/tsfad/rohithram/rohithram-bayes-changept/Bayesion_changept/bayesian_changept_detector.py\", line 62, in detect_anomalies\n",
      "    anom_indexes = self.plotonchangepoints(R,maxes)\n",
      "  File \"/home/rohithram/Desktop/internship/sprint1/tsfad/rohithram/rohithram-bayes-changept/Bayesion_changept/bayesian_changept_detector.py\", line 98, in plotonchangepoints\n",
      "    fig,(ax1,ax3) = plt.subplots(3,figsize=[18, 16])\n",
      "ValueError: too many values to unpack (expected 2)\n"
     ]
    },
    {
     "name": "stdout",
     "output_type": "stream",
     "text": [
      "{'code': '500', 'status': 'Unknown Exception', 'message': ValueError('too many values to unpack (expected 2)',)}\n"
     ]
    },
    {
     "data": {
      "image/png": "[encoded data removed]",
      "text/plain": [
       "<matplotlib.figure.Figure at 0x7f01fde6d898>"
      ]
     },
     "metadata": {},
     "output_type": "display_data"
    },
    {
     "data": {
      "image/png": "[encoded data removed]",
      "text/plain": [
       "<matplotlib.figure.Figure at 0x7f01fde6db00>"
      ]
     },
     "metadata": {},
     "output_type": "display_data"
    },
    {
     "data": {
      "image/png": "[encoded data removed]",
      "text/plain": [
       "<matplotlib.figure.Figure at 0x7f022c9bd9e8>"
      ]
     },
     "metadata": {},
     "output_type": "display_data"
    },
    {
     "data": {
      "image/png": "[encoded data removed]",
      "text/plain": [
       "<matplotlib.figure.Figure at 0x7f01f5d9ac18>"
      ]
     },
     "metadata": {},
     "output_type": "display_data"
    },
    {
     "data": {
      "image/png": "[encoded data removed]",
      "text/plain": [
       "<matplotlib.figure.Figure at 0x7f01f5570e10>"
      ]
     },
     "metadata": {},
     "output_type": "display_data"
    }
   ],
   "source": [
    "data_dir = 'dataset/sample_csv_files/'\n",
    "target_dir = 'dataset/reader_csv_files/'\n",
    "assetno = ['1']\n",
    "for filename in os.listdir(data_dir):\n",
    "    \n",
    "    name,ext = os.path.splitext(filename)\n",
    "    if ext != '.csv':continue\n",
    "    infile = os.path.join(data_dir,filename)\n",
    "    print(\"\\nDetecting anomalies for {}\\n\".format(filename))\n",
    "    \n",
    "    \n",
    "    kwargs1 = get_csv_kwargs(infile=infile,filename=filename,target_dir=target_dir,assetno=assetno[0],pthres=0.4)\n",
    "    kwargs1['expected_run_length']=500\n",
    "#     print('params: {}\\n'.format(param))\n",
    "   \n",
    "    res = call(**kwargs1)\n",
    "    print(res)"
   ]
  },
  {
   "cell_type": "markdown",
   "metadata": {},
   "source": [
    "# Conclusion:\n",
    "* Hence we observe that **Bayesian Changepoint Detection** works well only on level shifts or variational shift datasets over outlier or surge,sag datasets"
   ]
  }
 ],
 "metadata": {
  "kernelspec": {
   "display_name": "Python 3",
   "language": "python",
   "name": "python3"
  },
  "language_info": {
   "codemirror_mode": {
    "name": "ipython",
    "version": 3
   },
   "file_extension": ".py",
   "mimetype": "text/x-python",
   "name": "python",
   "nbconvert_exporter": "python",
   "pygments_lexer": "ipython3",
   "version": "3.6.5"
  }
 },
 "nbformat": 4,
 "nbformat_minor": 2
}
