{
 "cells": [
  {
   "cell_type": "markdown",
   "metadata": {},
   "source": [
    "## Anomaly detector class for Bayesian Changepoint Detection\n",
    "\n",
    "#### Dependencies :\n",
    "* Download https://github.com/hildensia/bayesian_changepoint_detection this and run **python setup.py install** to install the bayesian changepoint detection module.\n",
    "* Install **cProfile** module using pip to connect to postgresql db\n",
    "* Install **writefile_run** using pip , which is used to save the cell in a python file automatically"
   ]
  },
  {
   "cell_type": "code",
   "execution_count": 1,
   "metadata": {},
   "outputs": [],
   "source": [
    "import writefile_run"
   ]
  },
  {
   "cell_type": "code",
   "execution_count": 2,
   "metadata": {},
   "outputs": [],
   "source": [
    "%%writefile_run som_detector.py\n",
    "\n",
    "\n",
    "import numpy as np\n",
    "import pandas as pd\n",
    "import matplotlib.pyplot as plt\n",
    "# importing modules to run the algo\n"
   ]
  },
  {
   "cell_type": "code",
   "execution_count": 3,
   "metadata": {},
   "outputs": [
    {
     "ename": "SyntaxError",
     "evalue": "non-default argument follows default argument (<ipython-input-3-6e0a56a6b4ef>, line 4)",
     "output_type": "error",
     "traceback": [
      "\u001b[1;36m  File \u001b[1;32m\"<ipython-input-3-6e0a56a6b4ef>\"\u001b[1;36m, line \u001b[1;32m4\u001b[0m\n\u001b[1;33m    def __init__(self,data,assetno,is_train=True,model_input_args,training_args):\u001b[0m\n\u001b[1;37m                ^\u001b[0m\n\u001b[1;31mSyntaxError\u001b[0m\u001b[1;31m:\u001b[0m non-default argument follows default argument\n"
     ]
    }
   ],
   "source": [
    "%%writefile_run som_detector.py -a\n",
    "\n",
    "\n",
    "class Som_Detector():\n",
    "    def __init__(self,data,assetno,model_input_args,training_args):\n",
    "        \n",
    "        '''\n",
    "        Class which is used to find Changepoints in the dataset with given algorithm parameters.\n",
    "        It has all methods related to finding anomalies to plotting those anomalies and returns the\n",
    "        data being analysed and anomaly indexes.\n",
    "        Arguments :\n",
    "        data -> dataframe which has one or two more metric columnwise\n",
    "        assetno -> assetno of the dataset\n",
    "        is_train -> By Default is False , as no training required for this algo\n",
    "        data_col_index -> column index of the metric to find changepoints on\n",
    "        pthres -> Default value :0.5 , (float) it is threshold after which a changepoint is flagged as on anomaly\n",
    "        mean_runlen -> (int) By default 100, It is the average gap between two changepoints , this comes from \n",
    "                       nitty gritty math of exponential distributions\n",
    "        Nw (samples to wait) -> (int) By default 10 is being used for optimal performance. It is the samples after which\n",
    "                                we start assigning probailities for it to be a changepoint.\n",
    "        to_plot -> True if you want to plot anomalies\n",
    "        '''\n",
    "        \n",
    "        \n",
    "        self.algo_name = 'Self Organizing Map AD'\n",
    "        self.algo_code = 'som'\n",
    "        self.algo_type = 'multivariate'\n",
    "        self.istrain = training_args['is_train']\n",
    "        self.data = data\n",
    "        self.data_col_index = data_col_index\n",
    "        self.metric_name = list(data.columns[1:])\n",
    "        self.assetno = assetno\n",
    "        self.anom_indexes = None\n",
    "\n",
    "    def detect_anomalies(self):\n",
    "        \n",
    "        '''\n",
    "        Detects anomalies and returns data and anomaly indexes\n",
    "        '''\n",
    "        data = self.data\n",
    "        print(\"Shape of the dataset : \")\n",
    "        print(data.shape)\n",
    "        if(self.istrain):\n",
    "            net,data_set,train_data,test_data = som.train_som(data,self.model_input_args,self.training_args)\n",
    "            anom_indexes = som.test(net,test_data,anom_thres=anom_thres,diff_order=diff_order)\n",
    "        else:\n",
    "            anom_indexes = som.test(net,test_data,anom_thres=anom_thres,diff_order=diff_order)\n",
    "\n",
    "        self.anom_indexes = anom_indexes\n",
    "          \n",
    "        print(\"\\n No of Anomalies detected = %g\"%(len(anom_indexes)))\n",
    "\n",
    "        return anom_indexes"
   ]
  },
  {
   "cell_type": "code",
   "execution_count": null,
   "metadata": {},
   "outputs": [],
   "source": []
  }
 ],
 "metadata": {
  "kernelspec": {
   "display_name": "Python 3",
   "language": "python",
   "name": "python3"
  },
  "language_info": {
   "codemirror_mode": {
    "name": "ipython",
    "version": 3
   },
   "file_extension": ".py",
   "mimetype": "text/x-python",
   "name": "python",
   "nbconvert_exporter": "python",
   "pygments_lexer": "ipython3",
   "version": "3.6.4"
  }
 },
 "nbformat": 4,
 "nbformat_minor": 2
}
